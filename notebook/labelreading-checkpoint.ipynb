{
 "cells": [
  {
   "cell_type": "code",
   "execution_count": 1,
   "metadata": {
    "colab": {
     "base_uri": "https://localhost:8080/"
    },
    "id": "S7m9azJGZFbE",
    "outputId": "9680e7ff-946d-44bf-912d-46e967006002"
   },
   "outputs": [
    {
     "name": "stdout",
     "output_type": "stream",
     "text": [
      "Requirement already satisfied: paddleocr in c:\\users\\sai\\anaconda3\\lib\\site-packages (2.6.1.3)\n",
      "Requirement already satisfied: openpyxl in c:\\users\\sai\\anaconda3\\lib\\site-packages (from paddleocr) (3.1.2)\n",
      "Requirement already satisfied: imgaug in c:\\users\\sai\\anaconda3\\lib\\site-packages (from paddleocr) (0.4.0)\n",
      "Requirement already satisfied: lxml in c:\\users\\sai\\anaconda3\\lib\\site-packages (from paddleocr) (4.9.2)\n",
      "Requirement already satisfied: fonttools>=4.24.0 in c:\\users\\sai\\anaconda3\\lib\\site-packages (from paddleocr) (4.39.3)\n",
      "Requirement already satisfied: opencv-python<=4.6.0.66 in c:\\users\\sai\\anaconda3\\lib\\site-packages (from paddleocr) (4.6.0.66)\n",
      "Requirement already satisfied: pyclipper in c:\\users\\sai\\anaconda3\\lib\\site-packages (from paddleocr) (1.3.0.post4)\n",
      "Requirement already satisfied: scikit-image in c:\\users\\sai\\anaconda3\\lib\\site-packages (from paddleocr) (0.20.0)\n",
      "Requirement already satisfied: visualdl in c:\\users\\sai\\anaconda3\\lib\\site-packages (from paddleocr) (2.5.2)\n",
      "Requirement already satisfied: fire>=0.3.0 in c:\\users\\sai\\anaconda3\\lib\\site-packages (from paddleocr) (0.5.0)\n",
      "Requirement already satisfied: PyMuPDF<1.21.0 in c:\\users\\sai\\anaconda3\\lib\\site-packages (from paddleocr) (1.20.2)\n",
      "Requirement already satisfied: lmdb in c:\\users\\sai\\anaconda3\\lib\\site-packages (from paddleocr) (1.4.1)\n",
      "Requirement already satisfied: rapidfuzz in c:\\users\\sai\\anaconda3\\lib\\site-packages (from paddleocr) (3.0.0)\n",
      "Requirement already satisfied: shapely in c:\\users\\sai\\anaconda3\\lib\\site-packages (from paddleocr) (2.0.1)\n",
      "Requirement already satisfied: opencv-contrib-python<=4.6.0.66 in c:\\users\\sai\\anaconda3\\lib\\site-packages (from paddleocr) (4.6.0.66)\n",
      "Requirement already satisfied: premailer in c:\\users\\sai\\anaconda3\\lib\\site-packages (from paddleocr) (3.10.0)\n",
      "Requirement already satisfied: numpy in c:\\users\\sai\\anaconda3\\lib\\site-packages (from paddleocr) (1.24.3)\n",
      "Requirement already satisfied: beautifulsoup4 in c:\\users\\sai\\anaconda3\\lib\\site-packages (from paddleocr) (4.12.2)\n",
      "Requirement already satisfied: tqdm in c:\\users\\sai\\anaconda3\\lib\\site-packages (from paddleocr) (4.65.0)\n",
      "Requirement already satisfied: pdf2docx in c:\\users\\sai\\anaconda3\\lib\\site-packages (from paddleocr) (0.5.6)\n",
      "Requirement already satisfied: attrdict in c:\\users\\sai\\anaconda3\\lib\\site-packages (from paddleocr) (2.0.1)\n",
      "Requirement already satisfied: python-docx in c:\\users\\sai\\anaconda3\\lib\\site-packages (from paddleocr) (0.8.11)\n",
      "Requirement already satisfied: cython in c:\\users\\sai\\anaconda3\\lib\\site-packages (from paddleocr) (0.29.34)\n",
      "Requirement already satisfied: six in c:\\users\\sai\\anaconda3\\lib\\site-packages (from fire>=0.3.0->paddleocr) (1.16.0)\n",
      "Requirement already satisfied: termcolor in c:\\users\\sai\\anaconda3\\lib\\site-packages (from fire>=0.3.0->paddleocr) (2.3.0)\n",
      "Requirement already satisfied: soupsieve>1.2 in c:\\users\\sai\\anaconda3\\lib\\site-packages (from beautifulsoup4->paddleocr) (2.4)\n",
      "Requirement already satisfied: matplotlib in c:\\users\\sai\\anaconda3\\lib\\site-packages (from imgaug->paddleocr) (3.7.1)\n",
      "Requirement already satisfied: imageio in c:\\users\\sai\\anaconda3\\lib\\site-packages (from imgaug->paddleocr) (2.28.1)\n",
      "Requirement already satisfied: scipy in c:\\users\\sai\\anaconda3\\lib\\site-packages (from imgaug->paddleocr) (1.10.1)\n",
      "Requirement already satisfied: Pillow in c:\\users\\sai\\anaconda3\\lib\\site-packages (from imgaug->paddleocr) (9.4.0)\n",
      "Requirement already satisfied: lazy_loader>=0.1 in c:\\users\\sai\\anaconda3\\lib\\site-packages (from scikit-image->paddleocr) (0.2)\n",
      "Requirement already satisfied: packaging>=20.0 in c:\\users\\sai\\anaconda3\\lib\\site-packages (from scikit-image->paddleocr) (23.0)\n",
      "Requirement already satisfied: networkx>=2.8 in c:\\users\\sai\\anaconda3\\lib\\site-packages (from scikit-image->paddleocr) (3.1)\n",
      "Requirement already satisfied: tifffile>=2019.7.26 in c:\\users\\sai\\anaconda3\\lib\\site-packages (from scikit-image->paddleocr) (2023.4.12)\n",
      "Requirement already satisfied: PyWavelets>=1.1.1 in c:\\users\\sai\\anaconda3\\lib\\site-packages (from scikit-image->paddleocr) (1.4.1)\n",
      "Requirement already satisfied: et-xmlfile in c:\\users\\sai\\anaconda3\\lib\\site-packages (from openpyxl->paddleocr) (1.1.0)\n",
      "Requirement already satisfied: cssutils in c:\\users\\sai\\anaconda3\\lib\\site-packages (from premailer->paddleocr) (2.6.0)\n",
      "Requirement already satisfied: cachetools in c:\\users\\sai\\anaconda3\\lib\\site-packages (from premailer->paddleocr) (5.3.0)\n",
      "Requirement already satisfied: requests in c:\\users\\sai\\anaconda3\\lib\\site-packages (from premailer->paddleocr) (2.29.0)\n",
      "Requirement already satisfied: cssselect in c:\\users\\sai\\anaconda3\\lib\\site-packages (from premailer->paddleocr) (1.2.0)\n",
      "Requirement already satisfied: colorama in c:\\users\\sai\\anaconda3\\lib\\site-packages (from tqdm->paddleocr) (0.4.6)\n",
      "Requirement already satisfied: protobuf>=3.20.0 in c:\\users\\sai\\anaconda3\\lib\\site-packages (from visualdl->paddleocr) (3.20.0)\n",
      "Requirement already satisfied: flask>=1.1.1 in c:\\users\\sai\\anaconda3\\lib\\site-packages (from visualdl->paddleocr) (2.3.2)\n",
      "Requirement already satisfied: tritonclient[all] in c:\\users\\sai\\anaconda3\\lib\\site-packages (from visualdl->paddleocr) (2.33.0)\n",
      "Requirement already satisfied: rarfile in c:\\users\\sai\\anaconda3\\lib\\site-packages (from visualdl->paddleocr) (4.0)\n",
      "Requirement already satisfied: psutil in c:\\users\\sai\\anaconda3\\lib\\site-packages (from visualdl->paddleocr) (5.9.0)\n",
      "Requirement already satisfied: pandas in c:\\users\\sai\\anaconda3\\lib\\site-packages (from visualdl->paddleocr) (2.0.1)\n",
      "Requirement already satisfied: gradio==3.11.0 in c:\\users\\sai\\anaconda3\\lib\\site-packages (from visualdl->paddleocr) (3.11.0)\n",
      "Requirement already satisfied: onnx>=1.6.0 in c:\\users\\sai\\anaconda3\\lib\\site-packages (from visualdl->paddleocr) (1.12.0)\n",
      "Requirement already satisfied: Flask-Babel>=3.0.0 in c:\\users\\sai\\anaconda3\\lib\\site-packages (from visualdl->paddleocr) (3.1.0)\n",
      "Requirement already satisfied: bce-python-sdk in c:\\users\\sai\\anaconda3\\lib\\site-packages (from visualdl->paddleocr) (0.8.83)\n",
      "Requirement already satisfied: paddle2onnx>=1.0.5 in c:\\users\\sai\\anaconda3\\lib\\site-packages (from visualdl->paddleocr) (1.0.6)\n",
      "Requirement already satisfied: x2paddle>=1.4.0 in c:\\users\\sai\\anaconda3\\lib\\site-packages (from visualdl->paddleocr) (1.4.1)\n",
      "Requirement already satisfied: pydantic in c:\\users\\sai\\anaconda3\\lib\\site-packages (from gradio==3.11.0->visualdl->paddleocr) (1.10.7)\n",
      "Requirement already satisfied: fastapi in c:\\users\\sai\\anaconda3\\lib\\site-packages (from gradio==3.11.0->visualdl->paddleocr) (0.95.2)\n",
      "Requirement already satisfied: pycryptodome in c:\\users\\sai\\anaconda3\\lib\\site-packages (from gradio==3.11.0->visualdl->paddleocr) (3.17)\n",
      "Requirement already satisfied: python-multipart in c:\\users\\sai\\anaconda3\\lib\\site-packages (from gradio==3.11.0->visualdl->paddleocr) (0.0.6)\n",
      "Requirement already satisfied: websockets>=10.0 in c:\\users\\sai\\anaconda3\\lib\\site-packages (from gradio==3.11.0->visualdl->paddleocr) (11.0.3)\n",
      "Requirement already satisfied: orjson in c:\\users\\sai\\anaconda3\\lib\\site-packages (from gradio==3.11.0->visualdl->paddleocr) (3.8.12)\n",
      "Requirement already satisfied: uvicorn in c:\\users\\sai\\anaconda3\\lib\\site-packages (from gradio==3.11.0->visualdl->paddleocr) (0.22.0)\n",
      "Requirement already satisfied: pyyaml in c:\\users\\sai\\anaconda3\\lib\\site-packages (from gradio==3.11.0->visualdl->paddleocr) (6.0)\n",
      "Requirement already satisfied: aiohttp in c:\\users\\sai\\anaconda3\\lib\\site-packages (from gradio==3.11.0->visualdl->paddleocr) (3.8.4)\n",
      "Requirement already satisfied: jinja2 in c:\\users\\sai\\anaconda3\\lib\\site-packages (from gradio==3.11.0->visualdl->paddleocr) (3.1.2)\n",
      "Requirement already satisfied: markdown-it-py[linkify,plugins] in c:\\users\\sai\\anaconda3\\lib\\site-packages (from gradio==3.11.0->visualdl->paddleocr) (2.2.0)\n",
      "Requirement already satisfied: pydub in c:\\users\\sai\\anaconda3\\lib\\site-packages (from gradio==3.11.0->visualdl->paddleocr) (0.25.1)\n",
      "Requirement already satisfied: fsspec in c:\\users\\sai\\anaconda3\\lib\\site-packages (from gradio==3.11.0->visualdl->paddleocr) (2023.5.0)\n",
      "Requirement already satisfied: h11<0.13,>=0.11 in c:\\users\\sai\\anaconda3\\lib\\site-packages (from gradio==3.11.0->visualdl->paddleocr) (0.12.0)\n",
      "Requirement already satisfied: httpx in c:\\users\\sai\\anaconda3\\lib\\site-packages (from gradio==3.11.0->visualdl->paddleocr) (0.24.0)\n",
      "Requirement already satisfied: paramiko in c:\\users\\sai\\anaconda3\\lib\\site-packages (from gradio==3.11.0->visualdl->paddleocr) (3.1.0)\n",
      "Requirement already satisfied: ffmpy in c:\\users\\sai\\anaconda3\\lib\\site-packages (from gradio==3.11.0->visualdl->paddleocr) (0.3.0)\n",
      "Requirement already satisfied: itsdangerous>=2.1.2 in c:\\users\\sai\\anaconda3\\lib\\site-packages (from flask>=1.1.1->visualdl->paddleocr) (2.1.2)\n",
      "Requirement already satisfied: blinker>=1.6.2 in c:\\users\\sai\\anaconda3\\lib\\site-packages (from flask>=1.1.1->visualdl->paddleocr) (1.6.2)\n",
      "Requirement already satisfied: Werkzeug>=2.3.3 in c:\\users\\sai\\anaconda3\\lib\\site-packages (from flask>=1.1.1->visualdl->paddleocr) (2.3.3)\n",
      "Requirement already satisfied: click>=8.1.3 in c:\\users\\sai\\anaconda3\\lib\\site-packages (from flask>=1.1.1->visualdl->paddleocr) (8.1.3)\n",
      "Requirement already satisfied: pytz>=2022.7 in c:\\users\\sai\\anaconda3\\lib\\site-packages (from Flask-Babel>=3.0.0->visualdl->paddleocr) (2022.7)\n",
      "Requirement already satisfied: Babel>=2.12 in c:\\users\\sai\\anaconda3\\lib\\site-packages (from Flask-Babel>=3.0.0->visualdl->paddleocr) (2.12.1)\n",
      "Requirement already satisfied: typing-extensions>=3.6.2.1 in c:\\users\\sai\\anaconda3\\lib\\site-packages (from onnx>=1.6.0->visualdl->paddleocr) (4.5.0)\n",
      "Requirement already satisfied: sympy in c:\\users\\sai\\anaconda3\\lib\\site-packages (from x2paddle>=1.4.0->visualdl->paddleocr) (1.12)\n",
      "Requirement already satisfied: future>=0.6.0 in c:\\users\\sai\\anaconda3\\lib\\site-packages (from bce-python-sdk->visualdl->paddleocr) (0.18.3)\n",
      "Requirement already satisfied: kiwisolver>=1.0.1 in c:\\users\\sai\\anaconda3\\lib\\site-packages (from matplotlib->imgaug->paddleocr) (1.4.4)\n",
      "Requirement already satisfied: contourpy>=1.0.1 in c:\\users\\sai\\anaconda3\\lib\\site-packages (from matplotlib->imgaug->paddleocr) (1.0.7)\n",
      "Requirement already satisfied: pyparsing>=2.3.1 in c:\\users\\sai\\anaconda3\\lib\\site-packages (from matplotlib->imgaug->paddleocr) (3.0.9)\n",
      "Requirement already satisfied: python-dateutil>=2.7 in c:\\users\\sai\\anaconda3\\lib\\site-packages (from matplotlib->imgaug->paddleocr) (2.8.2)\n",
      "Requirement already satisfied: cycler>=0.10 in c:\\users\\sai\\anaconda3\\lib\\site-packages (from matplotlib->imgaug->paddleocr) (0.11.0)\n",
      "Requirement already satisfied: tzdata>=2022.1 in c:\\users\\sai\\anaconda3\\lib\\site-packages (from pandas->visualdl->paddleocr) (2023.3)\n",
      "Requirement already satisfied: urllib3<1.27,>=1.21.1 in c:\\users\\sai\\anaconda3\\lib\\site-packages (from requests->premailer->paddleocr) (1.26.15)\n",
      "Requirement already satisfied: certifi>=2017.4.17 in c:\\users\\sai\\anaconda3\\lib\\site-packages (from requests->premailer->paddleocr) (2022.12.7)\n",
      "Requirement already satisfied: idna<4,>=2.5 in c:\\users\\sai\\anaconda3\\lib\\site-packages (from requests->premailer->paddleocr) (3.4)\n",
      "Requirement already satisfied: charset-normalizer<4,>=2 in c:\\users\\sai\\anaconda3\\lib\\site-packages (from requests->premailer->paddleocr) (2.0.4)\n",
      "Requirement already satisfied: python-rapidjson>=0.9.1 in c:\\users\\sai\\anaconda3\\lib\\site-packages (from tritonclient[all]->visualdl->paddleocr) (1.10)\n",
      "Requirement already satisfied: geventhttpclient<=2.0.2,>=1.4.4 in c:\\users\\sai\\anaconda3\\lib\\site-packages (from tritonclient[all]->visualdl->paddleocr) (2.0.2)\n",
      "Requirement already satisfied: grpcio>=1.41.0 in c:\\users\\sai\\anaconda3\\lib\\site-packages (from tritonclient[all]->visualdl->paddleocr) (1.54.2)\n",
      "Requirement already satisfied: attrs>=17.3.0 in c:\\users\\sai\\anaconda3\\lib\\site-packages (from aiohttp->gradio==3.11.0->visualdl->paddleocr) (22.1.0)\n",
      "Requirement already satisfied: multidict<7.0,>=4.5 in c:\\users\\sai\\anaconda3\\lib\\site-packages (from aiohttp->gradio==3.11.0->visualdl->paddleocr) (6.0.4)\n",
      "Requirement already satisfied: async-timeout<5.0,>=4.0.0a3 in c:\\users\\sai\\anaconda3\\lib\\site-packages (from aiohttp->gradio==3.11.0->visualdl->paddleocr) (4.0.2)\n",
      "Requirement already satisfied: yarl<2.0,>=1.0 in c:\\users\\sai\\anaconda3\\lib\\site-packages (from aiohttp->gradio==3.11.0->visualdl->paddleocr) (1.9.2)\n",
      "Requirement already satisfied: aiosignal>=1.1.2 in c:\\users\\sai\\anaconda3\\lib\\site-packages (from aiohttp->gradio==3.11.0->visualdl->paddleocr) (1.3.1)\n",
      "Requirement already satisfied: frozenlist>=1.1.1 in c:\\users\\sai\\anaconda3\\lib\\site-packages (from aiohttp->gradio==3.11.0->visualdl->paddleocr) (1.3.3)\n",
      "Requirement already satisfied: brotli in c:\\users\\sai\\anaconda3\\lib\\site-packages (from geventhttpclient<=2.0.2,>=1.4.4->tritonclient[all]->visualdl->paddleocr) (1.0.9)\n",
      "Requirement already satisfied: gevent>=0.13 in c:\\users\\sai\\anaconda3\\lib\\site-packages (from geventhttpclient<=2.0.2,>=1.4.4->tritonclient[all]->visualdl->paddleocr) (22.10.2)\n",
      "Requirement already satisfied: MarkupSafe>=2.0 in c:\\users\\sai\\anaconda3\\lib\\site-packages (from jinja2->gradio==3.11.0->visualdl->paddleocr) (2.1.1)\n",
      "Requirement already satisfied: starlette<0.28.0,>=0.27.0 in c:\\users\\sai\\anaconda3\\lib\\site-packages (from fastapi->gradio==3.11.0->visualdl->paddleocr) (0.27.0)\n",
      "Requirement already satisfied: httpcore<0.18.0,>=0.15.0 in c:\\users\\sai\\anaconda3\\lib\\site-packages (from httpx->gradio==3.11.0->visualdl->paddleocr) (0.15.0)\n",
      "Requirement already satisfied: sniffio in c:\\users\\sai\\anaconda3\\lib\\site-packages (from httpx->gradio==3.11.0->visualdl->paddleocr) (1.3.0)\n",
      "Requirement already satisfied: mdurl~=0.1 in c:\\users\\sai\\anaconda3\\lib\\site-packages (from markdown-it-py[linkify,plugins]->gradio==3.11.0->visualdl->paddleocr) (0.1.2)\n",
      "Requirement already satisfied: linkify-it-py<3,>=1 in c:\\users\\sai\\anaconda3\\lib\\site-packages (from markdown-it-py[linkify,plugins]->gradio==3.11.0->visualdl->paddleocr) (2.0.2)\n",
      "Requirement already satisfied: mdit-py-plugins in c:\\users\\sai\\anaconda3\\lib\\site-packages (from markdown-it-py[linkify,plugins]->gradio==3.11.0->visualdl->paddleocr) (0.3.5)\n",
      "Requirement already satisfied: bcrypt>=3.2 in c:\\users\\sai\\anaconda3\\lib\\site-packages (from paramiko->gradio==3.11.0->visualdl->paddleocr) (4.0.1)\n",
      "Requirement already satisfied: cryptography>=3.3 in c:\\users\\sai\\anaconda3\\lib\\site-packages (from paramiko->gradio==3.11.0->visualdl->paddleocr) (39.0.1)\n",
      "Requirement already satisfied: pynacl>=1.5 in c:\\users\\sai\\anaconda3\\lib\\site-packages (from paramiko->gradio==3.11.0->visualdl->paddleocr) (1.5.0)\n",
      "Requirement already satisfied: mpmath>=0.19 in c:\\users\\sai\\anaconda3\\lib\\site-packages (from sympy->x2paddle>=1.4.0->visualdl->paddleocr) (1.3.0)\n",
      "Requirement already satisfied: cffi>=1.12 in c:\\users\\sai\\anaconda3\\lib\\site-packages (from cryptography>=3.3->paramiko->gradio==3.11.0->visualdl->paddleocr) (1.15.1)\n",
      "Requirement already satisfied: setuptools in c:\\users\\sai\\anaconda3\\lib\\site-packages (from gevent>=0.13->geventhttpclient<=2.0.2,>=1.4.4->tritonclient[all]->visualdl->paddleocr) (65.6.3)\n",
      "Requirement already satisfied: zope.interface in c:\\users\\sai\\anaconda3\\lib\\site-packages (from gevent>=0.13->geventhttpclient<=2.0.2,>=1.4.4->tritonclient[all]->visualdl->paddleocr) (6.0)\n",
      "Requirement already satisfied: greenlet>=2.0.0 in c:\\users\\sai\\anaconda3\\lib\\site-packages (from gevent>=0.13->geventhttpclient<=2.0.2,>=1.4.4->tritonclient[all]->visualdl->paddleocr) (2.0.2)\n",
      "Requirement already satisfied: zope.event in c:\\users\\sai\\anaconda3\\lib\\site-packages (from gevent>=0.13->geventhttpclient<=2.0.2,>=1.4.4->tritonclient[all]->visualdl->paddleocr) (4.6)\n",
      "Requirement already satisfied: anyio==3.* in c:\\users\\sai\\anaconda3\\lib\\site-packages (from httpcore<0.18.0,>=0.15.0->httpx->gradio==3.11.0->visualdl->paddleocr) (3.6.2)\n",
      "Requirement already satisfied: uc-micro-py in c:\\users\\sai\\anaconda3\\lib\\site-packages (from linkify-it-py<3,>=1->markdown-it-py[linkify,plugins]->gradio==3.11.0->visualdl->paddleocr) (1.0.2)\n",
      "Requirement already satisfied: pycparser in c:\\users\\sai\\anaconda3\\lib\\site-packages (from cffi>=1.12->cryptography>=3.3->paramiko->gradio==3.11.0->visualdl->paddleocr) (2.21)\n"
     ]
    }
   ],
   "source": [
    "!pip install paddleocr"
   ]
  },
  {
   "cell_type": "code",
   "execution_count": 2,
   "metadata": {
    "colab": {
     "base_uri": "https://localhost:8080/"
    },
    "id": "INwwHOpE_e_o",
    "outputId": "a54f9f5b-71e5-4f87-d793-c508ceebc04d"
   },
   "outputs": [
    {
     "name": "stdout",
     "output_type": "stream",
     "text": [
      "Collecting imgaug==0.2.5\n",
      "  Using cached imgaug-0.2.5.tar.gz (562 kB)\n",
      "  Preparing metadata (setup.py): started\n",
      "  Preparing metadata (setup.py): finished with status 'done'\n",
      "Requirement already satisfied: scipy in c:\\users\\sai\\anaconda3\\lib\\site-packages (from imgaug==0.2.5) (1.10.1)\n",
      "Requirement already satisfied: scikit-image>=0.11.0 in c:\\users\\sai\\anaconda3\\lib\\site-packages (from imgaug==0.2.5) (0.20.0)\n",
      "Requirement already satisfied: numpy>=1.7.0 in c:\\users\\sai\\anaconda3\\lib\\site-packages (from imgaug==0.2.5) (1.24.3)\n",
      "Requirement already satisfied: six in c:\\users\\sai\\anaconda3\\lib\\site-packages (from imgaug==0.2.5) (1.16.0)\n",
      "Requirement already satisfied: tifffile>=2019.7.26 in c:\\users\\sai\\anaconda3\\lib\\site-packages (from scikit-image>=0.11.0->imgaug==0.2.5) (2023.4.12)\n",
      "Requirement already satisfied: packaging>=20.0 in c:\\users\\sai\\anaconda3\\lib\\site-packages (from scikit-image>=0.11.0->imgaug==0.2.5) (23.0)\n",
      "Requirement already satisfied: imageio>=2.4.1 in c:\\users\\sai\\anaconda3\\lib\\site-packages (from scikit-image>=0.11.0->imgaug==0.2.5) (2.28.1)\n",
      "Requirement already satisfied: lazy_loader>=0.1 in c:\\users\\sai\\anaconda3\\lib\\site-packages (from scikit-image>=0.11.0->imgaug==0.2.5) (0.2)\n",
      "Requirement already satisfied: networkx>=2.8 in c:\\users\\sai\\anaconda3\\lib\\site-packages (from scikit-image>=0.11.0->imgaug==0.2.5) (3.1)\n",
      "Requirement already satisfied: pillow>=9.0.1 in c:\\users\\sai\\anaconda3\\lib\\site-packages (from scikit-image>=0.11.0->imgaug==0.2.5) (9.4.0)\n",
      "Requirement already satisfied: PyWavelets>=1.1.1 in c:\\users\\sai\\anaconda3\\lib\\site-packages (from scikit-image>=0.11.0->imgaug==0.2.5) (1.4.1)\n",
      "Building wheels for collected packages: imgaug\n",
      "  Building wheel for imgaug (setup.py): started\n",
      "  Building wheel for imgaug (setup.py): finished with status 'done'\n",
      "  Created wheel for imgaug: filename=imgaug-0.2.5-py3-none-any.whl size=561433 sha256=c6374b355fb80b0dac82cd497c001ada8436e2de57b9627a2681974f38d10db5\n",
      "  Stored in directory: c:\\users\\sai\\appdata\\local\\pip\\cache\\wheels\\8d\\35\\71\\6a80d86bb82c2a8bfa0a43804a5f74adbe1f8ecfa935673e2f\n",
      "Successfully built imgaug\n",
      "Installing collected packages: imgaug\n",
      "  Attempting uninstall: imgaug\n",
      "    Found existing installation: imgaug 0.4.0\n",
      "    Uninstalling imgaug-0.4.0:\n",
      "      Successfully uninstalled imgaug-0.4.0\n",
      "Successfully installed imgaug-0.2.5\n"
     ]
    }
   ],
   "source": [
    "!pip install imgaug==0.2.5\n"
   ]
  },
  {
   "cell_type": "code",
   "execution_count": 3,
   "metadata": {
    "colab": {
     "base_uri": "https://localhost:8080/"
    },
    "id": "21Dc2AMRZoUo",
    "outputId": "dd5dfe29-d8f5-4e16-baab-9ae3cd98e287"
   },
   "outputs": [
    {
     "name": "stdout",
     "output_type": "stream",
     "text": [
      "Requirement already satisfied: paddlepaddle in c:\\users\\sai\\anaconda3\\lib\\site-packages (2.4.2)\n",
      "Requirement already satisfied: six in c:\\users\\sai\\anaconda3\\lib\\site-packages (from paddlepaddle) (1.16.0)\n",
      "Requirement already satisfied: requests>=2.20.0 in c:\\users\\sai\\anaconda3\\lib\\site-packages (from paddlepaddle) (2.29.0)\n",
      "Requirement already satisfied: astor in c:\\users\\sai\\anaconda3\\lib\\site-packages (from paddlepaddle) (0.8.1)\n",
      "Requirement already satisfied: numpy>=1.13 in c:\\users\\sai\\anaconda3\\lib\\site-packages (from paddlepaddle) (1.24.3)\n",
      "Requirement already satisfied: Pillow in c:\\users\\sai\\anaconda3\\lib\\site-packages (from paddlepaddle) (9.4.0)\n",
      "Requirement already satisfied: protobuf<=3.20.0,>=3.1.0 in c:\\users\\sai\\anaconda3\\lib\\site-packages (from paddlepaddle) (3.20.0)\n",
      "Requirement already satisfied: decorator in c:\\users\\sai\\anaconda3\\lib\\site-packages (from paddlepaddle) (5.1.1)\n",
      "Requirement already satisfied: opt-einsum==3.3.0 in c:\\users\\sai\\anaconda3\\lib\\site-packages (from paddlepaddle) (3.3.0)\n",
      "Requirement already satisfied: paddle-bfloat==0.1.7 in c:\\users\\sai\\anaconda3\\lib\\site-packages (from paddlepaddle) (0.1.7)\n",
      "Requirement already satisfied: urllib3<1.27,>=1.21.1 in c:\\users\\sai\\anaconda3\\lib\\site-packages (from requests>=2.20.0->paddlepaddle) (1.26.15)\n",
      "Requirement already satisfied: idna<4,>=2.5 in c:\\users\\sai\\anaconda3\\lib\\site-packages (from requests>=2.20.0->paddlepaddle) (3.4)\n",
      "Requirement already satisfied: certifi>=2017.4.17 in c:\\users\\sai\\anaconda3\\lib\\site-packages (from requests>=2.20.0->paddlepaddle) (2022.12.7)\n",
      "Requirement already satisfied: charset-normalizer<4,>=2 in c:\\users\\sai\\anaconda3\\lib\\site-packages (from requests>=2.20.0->paddlepaddle) (2.0.4)\n"
     ]
    }
   ],
   "source": [
    "!pip install paddlepaddle"
   ]
  },
  {
   "cell_type": "code",
   "execution_count": 4,
   "metadata": {
    "colab": {
     "base_uri": "https://localhost:8080/"
    },
    "id": "YSrNUl_CZtEO",
    "outputId": "8a23fc1f-4baa-4b9b-b9e1-fb91aadf5268"
   },
   "outputs": [
    {
     "name": "stdout",
     "output_type": "stream",
     "text": [
      "Requirement already satisfied: gTTS in c:\\users\\sai\\anaconda3\\lib\\site-packages (2.3.2)\n",
      "Requirement already satisfied: requests<3,>=2.27 in c:\\users\\sai\\anaconda3\\lib\\site-packages (from gTTS) (2.29.0)\n",
      "Requirement already satisfied: click<8.2,>=7.1 in c:\\users\\sai\\anaconda3\\lib\\site-packages (from gTTS) (8.1.3)\n",
      "Requirement already satisfied: colorama in c:\\users\\sai\\anaconda3\\lib\\site-packages (from click<8.2,>=7.1->gTTS) (0.4.6)\n",
      "Requirement already satisfied: idna<4,>=2.5 in c:\\users\\sai\\anaconda3\\lib\\site-packages (from requests<3,>=2.27->gTTS) (3.4)\n",
      "Requirement already satisfied: urllib3<1.27,>=1.21.1 in c:\\users\\sai\\anaconda3\\lib\\site-packages (from requests<3,>=2.27->gTTS) (1.26.15)\n",
      "Requirement already satisfied: certifi>=2017.4.17 in c:\\users\\sai\\anaconda3\\lib\\site-packages (from requests<3,>=2.27->gTTS) (2022.12.7)\n",
      "Requirement already satisfied: charset-normalizer<4,>=2 in c:\\users\\sai\\anaconda3\\lib\\site-packages (from requests<3,>=2.27->gTTS) (2.0.4)\n"
     ]
    }
   ],
   "source": [
    "!pip install gTTS"
   ]
  },
  {
   "cell_type": "code",
   "execution_count": 5,
   "metadata": {
    "colab": {
     "base_uri": "https://localhost:8080/"
    },
    "id": "G1w3DfJ3cjmx",
    "outputId": "e3ced9d9-3ae7-4879-ed8d-6a9cc24672bb",
    "scrolled": true
   },
   "outputs": [
    {
     "name": "stderr",
     "output_type": "stream",
     "text": [
      "fatal: destination path 'PaddleOCR' already exists and is not an empty directory.\n"
     ]
    }
   ],
   "source": [
    "!git clone https://github.com/PaddlePaddle/PaddleOCR"
   ]
  },
  {
   "cell_type": "code",
   "execution_count": 1,
   "metadata": {},
   "outputs": [
    {
     "name": "stdout",
     "output_type": "stream",
     "text": [
      "Requirement already satisfied: pip in c:\\users\\sai\\appdata\\local\\programs\\python\\python311\\lib\\site-packages (23.1.2)\n",
      "Note: you may need to restart the kernel to use updated packages.\n"
     ]
    }
   ],
   "source": [
    "pip install --upgrade pip\n"
   ]
  },
  {
   "cell_type": "code",
   "execution_count": 2,
   "metadata": {},
   "outputs": [
    {
     "name": "stdout",
     "output_type": "stream",
     "text": [
      "Note: you may need to restart the kernel to use updated packages.\n"
     ]
    },
    {
     "name": "stderr",
     "output_type": "stream",
     "text": [
      "ERROR: Could not find a version that satisfies the requirement paddlepaddle (from versions: none)\n",
      "ERROR: No matching distribution found for paddlepaddle\n"
     ]
    }
   ],
   "source": [
    "pip install paddlepaddle paddleocr\n"
   ]
  },
  {
   "cell_type": "code",
   "execution_count": 6,
   "metadata": {
    "colab": {
     "base_uri": "https://localhost:8080/"
    },
    "id": "ey-xl4EPdG2U",
    "outputId": "a8a7f367-93a1-4a74-d802-2a00dffdee2d"
   },
   "outputs": [
    {
     "ename": "ModuleNotFoundError",
     "evalue": "No module named 'paddleocr'",
     "output_type": "error",
     "traceback": [
      "\u001b[1;31m---------------------------------------------------------------------------\u001b[0m",
      "\u001b[1;31mModuleNotFoundError\u001b[0m                       Traceback (most recent call last)",
      "Cell \u001b[1;32mIn[6], line 1\u001b[0m\n\u001b[1;32m----> 1\u001b[0m \u001b[38;5;28;01mimport\u001b[39;00m \u001b[38;5;21;01mpaddleocr\u001b[39;00m\n\u001b[0;32m      2\u001b[0m \u001b[38;5;28;01mfrom\u001b[39;00m \u001b[38;5;21;01mpaddleocr\u001b[39;00m\u001b[38;5;21;01m.\u001b[39;00m\u001b[38;5;21;01mpaddleocr\u001b[39;00m \u001b[38;5;28;01mimport\u001b[39;00m PaddleOCR, draw_ocr \n\u001b[0;32m      3\u001b[0m \u001b[38;5;28;01mfrom\u001b[39;00m \u001b[38;5;21;01mmatplotlib\u001b[39;00m \u001b[38;5;28;01mimport\u001b[39;00m pyplot \u001b[38;5;28;01mas\u001b[39;00m plt \n",
      "\u001b[1;31mModuleNotFoundError\u001b[0m: No module named 'paddleocr'"
     ]
    }
   ],
   "source": [
    "import paddleocr\n",
    "from paddleocr.paddleocr import PaddleOCR, draw_ocr \n",
    "from matplotlib import pyplot as plt \n",
    "import cv2 \n",
    "import os"
   ]
  },
  {
   "cell_type": "code",
   "execution_count": null,
   "metadata": {
    "colab": {
     "base_uri": "https://localhost:8080/"
    },
    "id": "PnDLr6UXdUZc",
    "outputId": "d93bd3d8-63ea-436a-fb7e-9a422226a6d2"
   },
   "outputs": [],
   "source": [
    "from paddleocr import PaddleOCR, draw_ocr\n",
    "from PIL import Image\n",
    "\n",
    "ocr = PaddleOCR(lang='en')  # Load the OCR model\n",
    "\n",
    "img_path = '/content/Resource_Label_Group_custom-pharmaceutical-labels-01.jpg'\n",
    "\n",
    "# Perform OCR on the image\n",
    "result = ocr.ocr(img_path, use_gpu=False)\n",
    "\n",
    "# Print the recognized text\n",
    "for line in result:\n",
    "    print(line[1][0])\n",
    "\n",
    "# Draw and save the result\n",
    "image = Image.open(img_path).convert('RGB')\n",
    "boxes = [line[0] for line in result]\n",
    "txts = [line[1][0] for line in result]\n",
    "scores = [line[1][1] for line in result]\n",
    "im_show = draw_ocr(image, boxes, txts, scores, font_path='/content/PaddleOCR/doc/fonts/latin.ttf')\n",
    "im_show.save('result.jpg')\n"
   ]
  },
  {
   "cell_type": "code",
   "execution_count": null,
   "metadata": {
    "colab": {
     "base_uri": "https://localhost:8080/"
    },
    "id": "tFC2lBzmeK0Z",
    "outputId": "10211994-368f-49a1-d29d-6ac8800b1e92"
   },
   "outputs": [],
   "source": [
    "ocr_model = PaddleOCR(lang='en')"
   ]
  },
  {
   "cell_type": "code",
   "execution_count": null,
   "metadata": {
    "id": "Epbj2SiMeRBn"
   },
   "outputs": [],
   "source": [
    "img_path = '/content/Resource_Label_Group_custom-pharmaceutical-labels-01.jpg'"
   ]
  },
  {
   "cell_type": "code",
   "execution_count": null,
   "metadata": {
    "colab": {
     "base_uri": "https://localhost:8080/"
    },
    "id": "ujZi5DFSe89-",
    "outputId": "ce6e98cf-493b-49a3-9ff7-eeacd450d2c2"
   },
   "outputs": [],
   "source": [
    "result = ocr_model.ocr(img_path)"
   ]
  },
  {
   "cell_type": "code",
   "execution_count": null,
   "metadata": {
    "colab": {
     "base_uri": "https://localhost:8080/"
    },
    "id": "7cTj-htbfD_s",
    "outputId": "aa16b07a-fe6d-47cf-cdb6-8525f7d03fc9"
   },
   "outputs": [],
   "source": [
    "result"
   ]
  },
  {
   "cell_type": "code",
   "execution_count": null,
   "metadata": {
    "colab": {
     "base_uri": "https://localhost:8080/"
    },
    "id": "rNSE-cN1fG4p",
    "outputId": "c7858e60-6111-4f07-9776-64a1dc738c8b"
   },
   "outputs": [],
   "source": [
    "result\n",
    "for res in result:\n",
    "    print(res[1][0])"
   ]
  },
  {
   "cell_type": "code",
   "execution_count": null,
   "metadata": {
    "id": "2RkBCWsefN4m"
   },
   "outputs": [],
   "source": [
    "boxes = [res[0] for res in result] \n",
    "txts = [res[1][0] for res in result]\n",
    "scores = [res[1][1] for res in result]"
   ]
  },
  {
   "cell_type": "code",
   "execution_count": null,
   "metadata": {
    "colab": {
     "base_uri": "https://localhost:8080/"
    },
    "id": "m9hc2kKbVcKu",
    "outputId": "073b3b48-0842-45bc-a763-c5e8c9eac50d"
   },
   "outputs": [],
   "source": [
    "txts"
   ]
  },
  {
   "cell_type": "code",
   "execution_count": null,
   "metadata": {
    "id": "x9ujLFKufTE1"
   },
   "outputs": [],
   "source": [
    "font_path = '/content/PaddleOCR/doc/fonts/latin.ttf'"
   ]
  },
  {
   "cell_type": "code",
   "execution_count": null,
   "metadata": {
    "id": "QDeYwUTRfe5L"
   },
   "outputs": [],
   "source": [
    "img = cv2.imread(img_path) \n",
    "\n",
    "\n",
    "img = cv2.cvtColor(img, cv2.COLOR_BGR2RGB) "
   ]
  },
  {
   "cell_type": "code",
   "execution_count": null,
   "metadata": {
    "colab": {
     "base_uri": "https://localhost:8080/",
     "height": 465
    },
    "id": "T7RoU_fqfpC3",
    "outputId": "6c1ee1c0-1d89-4a77-ce09-4b52833b4031"
   },
   "outputs": [],
   "source": [
    "plt.figure(figsize=(15,15))\n",
    "\n",
    "annotated = draw_ocr(img, boxes, txts, scores, font_path=font_path) \n",
    "\n",
    "plt.imshow(annotated) "
   ]
  },
  {
   "cell_type": "code",
   "execution_count": null,
   "metadata": {
    "colab": {
     "base_uri": "https://localhost:8080/"
    },
    "id": "FqNCB_A5Wz7z",
    "outputId": "c80dd844-ec6c-4f70-85bc-4f932c286717"
   },
   "outputs": [],
   "source": [
    "print(txts)"
   ]
  },
  {
   "cell_type": "code",
   "execution_count": null,
   "metadata": {
    "colab": {
     "base_uri": "https://localhost:8080/",
     "height": 35
    },
    "id": "XTudAW_6WrTV",
    "outputId": "01b3ae92-d60b-4ede-80af-095c93c08ad4"
   },
   "outputs": [],
   "source": [
    "my_texts =' '.join(txts)\n",
    "my_texts"
   ]
  },
  {
   "cell_type": "code",
   "execution_count": null,
   "metadata": {
    "colab": {
     "base_uri": "https://localhost:8080/"
    },
    "id": "2G1sWZSusFF_",
    "outputId": "3c93df37-032f-48c0-ced9-3d7d3b6c9362"
   },
   "outputs": [],
   "source": [
    "f=open(\"output.txt\",\"w\")\n",
    "f.write(my_texts)"
   ]
  },
  {
   "cell_type": "code",
   "execution_count": null,
   "metadata": {
    "id": "a4WBJTlaZvig"
   },
   "outputs": [],
   "source": [
    "from gtts import gTTS"
   ]
  },
  {
   "cell_type": "code",
   "execution_count": null,
   "metadata": {
    "id": "fip9fZhDbcLS"
   },
   "outputs": [],
   "source": [
    "f=open(\"output.txt\",\"r\")\n",
    "tts=f.read()\n",
    "tt= gTTS(text=tts,lang='en',slow = False)\n",
    "tt.save(\"good.mp3\")\n",
    "    \n",
    "    \n"
   ]
  },
  {
   "cell_type": "code",
   "execution_count": null,
   "metadata": {
    "colab": {
     "base_uri": "https://localhost:8080/"
    },
    "id": "aH4YM4UIacf4",
    "outputId": "b78bb489-c83c-452f-90dc-d1ed17b70c34"
   },
   "outputs": [],
   "source": [
    "!pip install gradio"
   ]
  },
  {
   "cell_type": "code",
   "execution_count": null,
   "metadata": {
    "id": "pvTEzWDnaWFv"
   },
   "outputs": [],
   "source": [
    "import gradio as gr"
   ]
  },
  {
   "cell_type": "code",
   "execution_count": null,
   "metadata": {
    "id": "aS5giZoubcmP"
   },
   "outputs": [],
   "source": [
    "import pickle"
   ]
  },
  {
   "cell_type": "code",
   "execution_count": null,
   "metadata": {
    "id": "iZnKtE866yk5"
   },
   "outputs": [],
   "source": [
    "file = open('model.pkl', 'wb')\n",
    "\n",
    "pickle.dump(tt, file)"
   ]
  },
  {
   "cell_type": "code",
   "execution_count": null,
   "metadata": {
    "colab": {
     "base_uri": "https://localhost:8080/"
    },
    "id": "LSZh9dVPdzM3",
    "outputId": "86b298ea-5bb7-487f-aa60-9ec0b1f4b064"
   },
   "outputs": [],
   "source": [
    "! pip install pdfminer.six"
   ]
  },
  {
   "cell_type": "code",
   "execution_count": null,
   "metadata": {
    "colab": {
     "base_uri": "https://localhost:8080/",
     "height": 643
    },
    "id": "vTw6Ms4YdZ33",
    "outputId": "a6bb5597-e4b5-4e6c-e376-fe239fc8ba25"
   },
   "outputs": [],
   "source": [
    "from gtts import gTTS\n",
    "from pdfminer.high_level import extract_text\n",
    "import gradio as gr\n",
    "\n",
    "def pdf_to_text(file_obj):\n",
    "   text = extract_text(file_obj.name)\n",
    "   myobj = gTTS(text=tts, lang='en', slow=False)\n",
    "   myobj.save(\"output.wav\")\n",
    "   return 'output.wav'\n",
    "\n",
    "iface = gr.Interface(\n",
    "   fn = pdf_to_text,\n",
    "   inputs = 'file',\n",
    "   outputs = 'audio'\n",
    "   )\n",
    "iface.launch()"
   ]
  }
 ],
 "metadata": {
  "colab": {
   "collapsed_sections": [],
   "name": "labelreading.ipynb",
   "provenance": []
  },
  "kernelspec": {
   "display_name": "Python 3 (ipykernel)",
   "language": "python",
   "name": "python3"
  },
  "language_info": {
   "codemirror_mode": {
    "name": "ipython",
    "version": 3
   },
   "file_extension": ".py",
   "mimetype": "text/x-python",
   "name": "python",
   "nbconvert_exporter": "python",
   "pygments_lexer": "ipython3",
   "version": "3.11.2"
  }
 },
 "nbformat": 4,
 "nbformat_minor": 1
}

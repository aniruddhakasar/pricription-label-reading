{
 "cells": [
  {
   "cell_type": "code",
   "execution_count": 1,
   "metadata": {
    "colab": {
     "base_uri": "https://localhost:8080/"
    },
    "id": "S7m9azJGZFbE",
    "outputId": "9680e7ff-946d-44bf-912d-46e967006002"
   },
   "outputs": [
    {
     "name": "stdout",
     "output_type": "stream",
     "text": [
      "Requirement already satisfied: paddleocr in c:\\users\\sai\\anaconda3\\lib\\site-packages (2.6.1.3)\n",
      "Requirement already satisfied: rapidfuzz in c:\\users\\sai\\anaconda3\\lib\\site-packages (from paddleocr) (2.13.7)\n",
      "Requirement already satisfied: opencv-python<=4.6.0.66 in c:\\users\\sai\\anaconda3\\lib\\site-packages (from paddleocr) (4.6.0.66)\n",
      "Requirement already satisfied: premailer in c:\\users\\sai\\anaconda3\\lib\\site-packages (from paddleocr) (3.10.0)\n",
      "Requirement already satisfied: shapely in c:\\users\\sai\\anaconda3\\lib\\site-packages (from paddleocr) (2.0.1)\n",
      "Requirement already satisfied: tqdm in c:\\users\\sai\\anaconda3\\lib\\site-packages (from paddleocr) (4.64.1)\n",
      "Requirement already satisfied: python-docx in c:\\users\\sai\\anaconda3\\lib\\site-packages (from paddleocr) (0.8.11)\n",
      "Requirement already satisfied: openpyxl in c:\\users\\sai\\anaconda3\\lib\\site-packages (from paddleocr) (3.0.10)\n",
      "Requirement already satisfied: attrdict in c:\\users\\sai\\anaconda3\\lib\\site-packages (from paddleocr) (2.0.1)\n",
      "Requirement already satisfied: lxml in c:\\users\\sai\\anaconda3\\lib\\site-packages (from paddleocr) (4.9.1)\n",
      "Requirement already satisfied: imgaug in c:\\users\\sai\\anaconda3\\lib\\site-packages (from paddleocr) (0.2.5)\n",
      "Requirement already satisfied: scikit-image in c:\\users\\sai\\anaconda3\\lib\\site-packages (from paddleocr) (0.19.2)\n",
      "Requirement already satisfied: PyMuPDF<1.21.0 in c:\\users\\sai\\anaconda3\\lib\\site-packages (from paddleocr) (1.20.2)\n",
      "Requirement already satisfied: pyclipper in c:\\users\\sai\\anaconda3\\lib\\site-packages (from paddleocr) (1.3.0.post4)\n",
      "Requirement already satisfied: fonttools>=4.24.0 in c:\\users\\sai\\anaconda3\\lib\\site-packages (from paddleocr) (4.25.0)\n",
      "Requirement already satisfied: numpy in c:\\users\\sai\\anaconda3\\lib\\site-packages (from paddleocr) (1.21.5)\n",
      "Requirement already satisfied: fire>=0.3.0 in c:\\users\\sai\\anaconda3\\lib\\site-packages (from paddleocr) (0.5.0)\n",
      "Requirement already satisfied: pdf2docx in c:\\users\\sai\\anaconda3\\lib\\site-packages (from paddleocr) (0.5.6)\n",
      "Requirement already satisfied: visualdl in c:\\users\\sai\\anaconda3\\lib\\site-packages (from paddleocr) (2.5.0)\n",
      "Requirement already satisfied: opencv-contrib-python<=4.6.0.66 in c:\\users\\sai\\anaconda3\\lib\\site-packages (from paddleocr) (4.6.0.66)\n",
      "Requirement already satisfied: lmdb in c:\\users\\sai\\anaconda3\\lib\\site-packages (from paddleocr) (1.4.0)\n",
      "Requirement already satisfied: beautifulsoup4 in c:\\users\\sai\\anaconda3\\lib\\site-packages (from paddleocr) (4.11.1)\n",
      "Requirement already satisfied: cython in c:\\users\\sai\\anaconda3\\lib\\site-packages (from paddleocr) (0.29.32)\n",
      "Requirement already satisfied: six in c:\\users\\sai\\anaconda3\\lib\\site-packages (from fire>=0.3.0->paddleocr) (1.16.0)\n",
      "Requirement already satisfied: termcolor in c:\\users\\sai\\anaconda3\\lib\\site-packages (from fire>=0.3.0->paddleocr) (2.2.0)\n",
      "Requirement already satisfied: soupsieve>1.2 in c:\\users\\sai\\anaconda3\\lib\\site-packages (from beautifulsoup4->paddleocr) (2.3.1)\n",
      "Requirement already satisfied: scipy in c:\\users\\sai\\anaconda3\\lib\\site-packages (from imgaug->paddleocr) (1.9.1)\n",
      "Requirement already satisfied: networkx>=2.2 in c:\\users\\sai\\anaconda3\\lib\\site-packages (from scikit-image->paddleocr) (2.8.4)\n",
      "Requirement already satisfied: PyWavelets>=1.1.1 in c:\\users\\sai\\anaconda3\\lib\\site-packages (from scikit-image->paddleocr) (1.3.0)\n",
      "Requirement already satisfied: packaging>=20.0 in c:\\users\\sai\\anaconda3\\lib\\site-packages (from scikit-image->paddleocr) (21.3)\n",
      "Requirement already satisfied: tifffile>=2019.7.26 in c:\\users\\sai\\anaconda3\\lib\\site-packages (from scikit-image->paddleocr) (2021.7.2)\n",
      "Requirement already satisfied: imageio>=2.4.1 in c:\\users\\sai\\anaconda3\\lib\\site-packages (from scikit-image->paddleocr) (2.19.3)\n",
      "Requirement already satisfied: pillow!=7.1.0,!=7.1.1,!=8.3.0,>=6.1.0 in c:\\users\\sai\\anaconda3\\lib\\site-packages (from scikit-image->paddleocr) (9.2.0)\n",
      "Requirement already satisfied: et_xmlfile in c:\\users\\sai\\anaconda3\\lib\\site-packages (from openpyxl->paddleocr) (1.1.0)\n",
      "Requirement already satisfied: cssselect in c:\\users\\sai\\anaconda3\\lib\\site-packages (from premailer->paddleocr) (1.1.0)\n",
      "Requirement already satisfied: cachetools in c:\\users\\sai\\anaconda3\\lib\\site-packages (from premailer->paddleocr) (5.3.0)\n",
      "Requirement already satisfied: cssutils in c:\\users\\sai\\anaconda3\\lib\\site-packages (from premailer->paddleocr) (2.6.0)\n",
      "Requirement already satisfied: requests in c:\\users\\sai\\anaconda3\\lib\\site-packages (from premailer->paddleocr) (2.28.1)\n",
      "Requirement already satisfied: colorama in c:\\users\\sai\\anaconda3\\lib\\site-packages (from tqdm->paddleocr) (0.4.5)\n",
      "Requirement already satisfied: psutil in c:\\users\\sai\\anaconda3\\lib\\site-packages (from visualdl->paddleocr) (5.9.0)\n",
      "Requirement already satisfied: x2paddle in c:\\users\\sai\\anaconda3\\lib\\site-packages (from visualdl->paddleocr) (1.4.0)\n",
      "Requirement already satisfied: bce-python-sdk in c:\\users\\sai\\anaconda3\\lib\\site-packages (from visualdl->paddleocr) (0.8.79)\n",
      "Requirement already satisfied: flask>=1.1.1 in c:\\users\\sai\\anaconda3\\lib\\site-packages (from visualdl->paddleocr) (2.2.2)\n",
      "Requirement already satisfied: protobuf>=3.11.0 in c:\\users\\sai\\anaconda3\\lib\\site-packages (from visualdl->paddleocr) (3.19.6)\n",
      "Requirement already satisfied: pandas in c:\\users\\sai\\anaconda3\\lib\\site-packages (from visualdl->paddleocr) (1.4.4)\n",
      "Requirement already satisfied: multiprocess in c:\\users\\sai\\anaconda3\\lib\\site-packages (from visualdl->paddleocr) (0.70.14)\n",
      "Requirement already satisfied: Flask-Babel>=3.0.0 in c:\\users\\sai\\anaconda3\\lib\\site-packages (from visualdl->paddleocr) (3.0.1)\n",
      "Requirement already satisfied: tritonclient[all] in c:\\users\\sai\\anaconda3\\lib\\site-packages (from visualdl->paddleocr) (2.30.0)\n",
      "Requirement already satisfied: gradio in c:\\users\\sai\\anaconda3\\lib\\site-packages (from visualdl->paddleocr) (3.18.0)\n",
      "Requirement already satisfied: onnx>=1.6.0 in c:\\users\\sai\\anaconda3\\lib\\site-packages (from visualdl->paddleocr) (1.13.0)\n",
      "Requirement already satisfied: matplotlib in c:\\users\\sai\\anaconda3\\lib\\site-packages (from visualdl->paddleocr) (3.5.2)\n",
      "Requirement already satisfied: rarfile in c:\\users\\sai\\anaconda3\\lib\\site-packages (from visualdl->paddleocr) (4.0)\n",
      "Requirement already satisfied: Werkzeug>=2.2.2 in c:\\users\\sai\\anaconda3\\lib\\site-packages (from flask>=1.1.1->visualdl->paddleocr) (2.2.3)\n",
      "Requirement already satisfied: click>=8.0 in c:\\users\\sai\\anaconda3\\lib\\site-packages (from flask>=1.1.1->visualdl->paddleocr) (8.0.4)\n",
      "Requirement already satisfied: itsdangerous>=2.0 in c:\\users\\sai\\anaconda3\\lib\\site-packages (from flask>=1.1.1->visualdl->paddleocr) (2.0.1)\n",
      "Requirement already satisfied: importlib-metadata>=3.6.0 in c:\\users\\sai\\anaconda3\\lib\\site-packages (from flask>=1.1.1->visualdl->paddleocr) (4.11.3)\n",
      "Requirement already satisfied: Jinja2>=3.0 in c:\\users\\sai\\anaconda3\\lib\\site-packages (from flask>=1.1.1->visualdl->paddleocr) (3.1.2)\n",
      "Requirement already satisfied: pytz<2023.0,>=2022.7 in c:\\users\\sai\\anaconda3\\lib\\site-packages (from Flask-Babel>=3.0.0->visualdl->paddleocr) (2022.7.1)\n",
      "Requirement already satisfied: Babel<3.0.0,>=2.11.0 in c:\\users\\sai\\anaconda3\\lib\\site-packages (from Flask-Babel>=3.0.0->visualdl->paddleocr) (2.11.0)\n",
      "Requirement already satisfied: typing-extensions>=3.6.2.1 in c:\\users\\sai\\anaconda3\\lib\\site-packages (from onnx>=1.6.0->visualdl->paddleocr) (4.3.0)\n",
      "INFO: pip is looking at multiple versions of networkx to determine which version is compatible with other requirements. This could take a while.\n",
      "INFO: pip is looking at multiple versions of imageio to determine which version is compatible with other requirements. This could take a while.\n",
      "INFO: pip is looking at multiple versions of flask-babel to determine which version is compatible with other requirements. This could take a while.\n",
      "INFO: pip is looking at multiple versions of flask to determine which version is compatible with other requirements. This could take a while.\n",
      "INFO: pip is looking at multiple versions of visualdl to determine which version is compatible with other requirements. This could take a while.\n",
      "INFO: pip is looking at multiple versions of tqdm to determine which version is compatible with other requirements. This could take a while.\n",
      "INFO: pip is looking at multiple versions of shapely to determine which version is compatible with other requirements. This could take a while.\n",
      "INFO: pip is looking at multiple versions of rapidfuzz to determine which version is compatible with other requirements. This could take a while.\n",
      "INFO: pip is looking at multiple versions of pyclipper to determine which version is compatible with other requirements. This could take a while.\n",
      "INFO: pip is looking at multiple versions of premailer to determine which version is compatible with other requirements. This could take a while.\n",
      "INFO: pip is looking at multiple versions of python-docx to determine which version is compatible with other requirements. This could take a while.\n",
      "INFO: pip is looking at multiple versions of pdf2docx to determine which version is compatible with other requirements. This could take a while.\n",
      "INFO: pip is looking at multiple versions of openpyxl to determine which version is compatible with other requirements. This could take a while.\n",
      "INFO: pip is looking at multiple versions of lxml to determine which version is compatible with other requirements. This could take a while.\n",
      "INFO: pip is looking at multiple versions of lmdb to determine which version is compatible with other requirements. This could take a while.\n",
      "INFO: pip is looking at multiple versions of scikit-image to determine which version is compatible with other requirements. This could take a while.\n",
      "INFO: pip is looking at multiple versions of imgaug to determine which version is compatible with other requirements. This could take a while.\n",
      "INFO: pip is looking at multiple versions of cython to determine which version is compatible with other requirements. This could take a while.\n",
      "INFO: pip is looking at multiple versions of beautifulsoup4 to determine which version is compatible with other requirements. This could take a while.\n",
      "INFO: pip is looking at multiple versions of attrdict to determine which version is compatible with other requirements. This could take a while.\n",
      "INFO: pip is looking at multiple versions of pymupdf to determine which version is compatible with other requirements. This could take a while.\n",
      "INFO: pip is looking at multiple versions of opencv-python to determine which version is compatible with other requirements. This could take a while.\n",
      "INFO: pip is looking at multiple versions of numpy to determine which version is compatible with other requirements. This could take a while.\n",
      "INFO: pip is looking at multiple versions of opencv-contrib-python to determine which version is compatible with other requirements. This could take a while.\n",
      "INFO: pip is looking at multiple versions of fonttools to determine which version is compatible with other requirements. This could take a while.\n",
      "INFO: pip is looking at multiple versions of fire to determine which version is compatible with other requirements. This could take a while.\n",
      "INFO: pip is looking at multiple versions of paddleocr to determine which version is compatible with other requirements. This could take a while.\n",
      "\n",
      "The conflict is caused by:\n",
      "    visualdl 2.5.0 depends on protobuf>=3.11.0\n",
      "    onnx 1.13.0 depends on protobuf<4 and >=3.20.2\n",
      "\n",
      "To fix this you could try to:\n",
      "1. loosen the range of package versions you've specified\n",
      "2. remove package versions to allow pip attempt to solve the dependency conflict\n",
      "\n"
     ]
    },
    {
     "name": "stderr",
     "output_type": "stream",
     "text": [
      "WARNING: Retrying (Retry(total=4, connect=None, read=None, redirect=None, status=None)) after connection broken by 'NewConnectionError('<pip._vendor.urllib3.connection.HTTPSConnection object at 0x0000022C948F8790>: Failed to establish a new connection: [Errno 11001] getaddrinfo failed')': /simple/protobuf/\n",
      "WARNING: Retrying (Retry(total=3, connect=None, read=None, redirect=None, status=None)) after connection broken by 'NewConnectionError('<pip._vendor.urllib3.connection.HTTPSConnection object at 0x0000022C94985F70>: Failed to establish a new connection: [Errno 11001] getaddrinfo failed')': /simple/protobuf/\n",
      "WARNING: Retrying (Retry(total=2, connect=None, read=None, redirect=None, status=None)) after connection broken by 'NewConnectionError('<pip._vendor.urllib3.connection.HTTPSConnection object at 0x0000022C94985BB0>: Failed to establish a new connection: [Errno 11001] getaddrinfo failed')': /simple/protobuf/\n",
      "WARNING: Retrying (Retry(total=1, connect=None, read=None, redirect=None, status=None)) after connection broken by 'NewConnectionError('<pip._vendor.urllib3.connection.HTTPSConnection object at 0x0000022C94985310>: Failed to establish a new connection: [Errno 11001] getaddrinfo failed')': /simple/protobuf/\n",
      "WARNING: Retrying (Retry(total=0, connect=None, read=None, redirect=None, status=None)) after connection broken by 'NewConnectionError('<pip._vendor.urllib3.connection.HTTPSConnection object at 0x0000022C9497F280>: Failed to establish a new connection: [Errno 11001] getaddrinfo failed')': /simple/protobuf/\n",
      "WARNING: Retrying (Retry(total=4, connect=None, read=None, redirect=None, status=None)) after connection broken by 'NewConnectionError('<pip._vendor.urllib3.connection.HTTPSConnection object at 0x0000022C949490D0>: Failed to establish a new connection: [Errno 11001] getaddrinfo failed')': /simple/onnx/\n",
      "WARNING: Retrying (Retry(total=3, connect=None, read=None, redirect=None, status=None)) after connection broken by 'NewConnectionError('<pip._vendor.urllib3.connection.HTTPSConnection object at 0x0000022C94949AF0>: Failed to establish a new connection: [Errno 11001] getaddrinfo failed')': /simple/onnx/\n",
      "WARNING: Retrying (Retry(total=2, connect=None, read=None, redirect=None, status=None)) after connection broken by 'NewConnectionError('<pip._vendor.urllib3.connection.HTTPSConnection object at 0x0000022C9496C970>: Failed to establish a new connection: [Errno 11001] getaddrinfo failed')': /simple/onnx/\n",
      "WARNING: Retrying (Retry(total=1, connect=None, read=None, redirect=None, status=None)) after connection broken by 'NewConnectionError('<pip._vendor.urllib3.connection.HTTPSConnection object at 0x0000022C9497F250>: Failed to establish a new connection: [Errno 11001] getaddrinfo failed')': /simple/onnx/\n",
      "WARNING: Retrying (Retry(total=0, connect=None, read=None, redirect=None, status=None)) after connection broken by 'NewConnectionError('<pip._vendor.urllib3.connection.HTTPSConnection object at 0x0000022C949859D0>: Failed to establish a new connection: [Errno 11001] getaddrinfo failed')': /simple/onnx/\n",
      "WARNING: Retrying (Retry(total=4, connect=None, read=None, redirect=None, status=None)) after connection broken by 'NewConnectionError('<pip._vendor.urllib3.connection.HTTPSConnection object at 0x0000022C948F0670>: Failed to establish a new connection: [Errno 11001] getaddrinfo failed')': /simple/networkx/\n",
      "WARNING: Retrying (Retry(total=3, connect=None, read=None, redirect=None, status=None)) after connection broken by 'NewConnectionError('<pip._vendor.urllib3.connection.HTTPSConnection object at 0x0000022C9498B730>: Failed to establish a new connection: [Errno 11001] getaddrinfo failed')': /simple/networkx/\n",
      "WARNING: Retrying (Retry(total=2, connect=None, read=None, redirect=None, status=None)) after connection broken by 'NewConnectionError('<pip._vendor.urllib3.connection.HTTPSConnection object at 0x0000022C9498B460>: Failed to establish a new connection: [Errno 11001] getaddrinfo failed')': /simple/networkx/\n",
      "WARNING: Retrying (Retry(total=1, connect=None, read=None, redirect=None, status=None)) after connection broken by 'NewConnectionError('<pip._vendor.urllib3.connection.HTTPSConnection object at 0x0000022C949062E0>: Failed to establish a new connection: [Errno 11001] getaddrinfo failed')': /simple/networkx/\n",
      "WARNING: Retrying (Retry(total=0, connect=None, read=None, redirect=None, status=None)) after connection broken by 'NewConnectionError('<pip._vendor.urllib3.connection.HTTPSConnection object at 0x0000022C949063A0>: Failed to establish a new connection: [Errno 11001] getaddrinfo failed')': /simple/networkx/\n",
      "WARNING: Retrying (Retry(total=4, connect=None, read=None, redirect=None, status=None)) after connection broken by 'NewConnectionError('<pip._vendor.urllib3.connection.HTTPSConnection object at 0x0000022C948C2370>: Failed to establish a new connection: [Errno 11001] getaddrinfo failed')': /simple/imageio/\n",
      "WARNING: Retrying (Retry(total=3, connect=None, read=None, redirect=None, status=None)) after connection broken by 'NewConnectionError('<pip._vendor.urllib3.connection.HTTPSConnection object at 0x0000022C948C6400>: Failed to establish a new connection: [Errno 11001] getaddrinfo failed')': /simple/imageio/\n",
      "WARNING: Retrying (Retry(total=2, connect=None, read=None, redirect=None, status=None)) after connection broken by 'NewConnectionError('<pip._vendor.urllib3.connection.HTTPSConnection object at 0x0000022C949061C0>: Failed to establish a new connection: [Errno 11001] getaddrinfo failed')': /simple/imageio/\n",
      "WARNING: Retrying (Retry(total=1, connect=None, read=None, redirect=None, status=None)) after connection broken by 'NewConnectionError('<pip._vendor.urllib3.connection.HTTPSConnection object at 0x0000022C94906160>: Failed to establish a new connection: [Errno 11001] getaddrinfo failed')': /simple/imageio/\n",
      "WARNING: Retrying (Retry(total=0, connect=None, read=None, redirect=None, status=None)) after connection broken by 'NewConnectionError('<pip._vendor.urllib3.connection.HTTPSConnection object at 0x0000022C9498B730>: Failed to establish a new connection: [Errno 11001] getaddrinfo failed')': /simple/imageio/\n",
      "WARNING: Retrying (Retry(total=4, connect=None, read=None, redirect=None, status=None)) after connection broken by 'NewConnectionError('<pip._vendor.urllib3.connection.HTTPSConnection object at 0x0000022C9494ECD0>: Failed to establish a new connection: [Errno 11001] getaddrinfo failed')': /simple/flask-babel/\n",
      "WARNING: Retrying (Retry(total=3, connect=None, read=None, redirect=None, status=None)) after connection broken by 'NewConnectionError('<pip._vendor.urllib3.connection.HTTPSConnection object at 0x0000022C949857C0>: Failed to establish a new connection: [Errno 11001] getaddrinfo failed')': /simple/flask-babel/\n",
      "WARNING: Retrying (Retry(total=2, connect=None, read=None, redirect=None, status=None)) after connection broken by 'NewConnectionError('<pip._vendor.urllib3.connection.HTTPSConnection object at 0x0000022C94985910>: Failed to establish a new connection: [Errno 11001] getaddrinfo failed')': /simple/flask-babel/\n",
      "WARNING: Retrying (Retry(total=1, connect=None, read=None, redirect=None, status=None)) after connection broken by 'NewConnectionError('<pip._vendor.urllib3.connection.HTTPSConnection object at 0x0000022C9497FAF0>: Failed to establish a new connection: [Errno 11001] getaddrinfo failed')': /simple/flask-babel/\n",
      "WARNING: Retrying (Retry(total=0, connect=None, read=None, redirect=None, status=None)) after connection broken by 'NewConnectionError('<pip._vendor.urllib3.connection.HTTPSConnection object at 0x0000022C9496C280>: Failed to establish a new connection: [Errno 11001] getaddrinfo failed')': /simple/flask-babel/\n",
      "WARNING: Retrying (Retry(total=4, connect=None, read=None, redirect=None, status=None)) after connection broken by 'NewConnectionError('<pip._vendor.urllib3.connection.HTTPSConnection object at 0x0000022C949558B0>: Failed to establish a new connection: [Errno 11001] getaddrinfo failed')': /simple/flask/\n",
      "WARNING: Retrying (Retry(total=3, connect=None, read=None, redirect=None, status=None)) after connection broken by 'NewConnectionError('<pip._vendor.urllib3.connection.HTTPSConnection object at 0x0000022C94955580>: Failed to establish a new connection: [Errno 11001] getaddrinfo failed')': /simple/flask/\n",
      "WARNING: Retrying (Retry(total=2, connect=None, read=None, redirect=None, status=None)) after connection broken by 'NewConnectionError('<pip._vendor.urllib3.connection.HTTPSConnection object at 0x0000022C949552B0>: Failed to establish a new connection: [Errno 11001] getaddrinfo failed')': /simple/flask/\n",
      "WARNING: Retrying (Retry(total=1, connect=None, read=None, redirect=None, status=None)) after connection broken by 'NewConnectionError('<pip._vendor.urllib3.connection.HTTPSConnection object at 0x0000022C94955790>: Failed to establish a new connection: [Errno 11001] getaddrinfo failed')': /simple/flask/\n",
      "WARNING: Retrying (Retry(total=0, connect=None, read=None, redirect=None, status=None)) after connection broken by 'NewConnectionError('<pip._vendor.urllib3.connection.HTTPSConnection object at 0x0000022C94955190>: Failed to establish a new connection: [Errno 11001] getaddrinfo failed')': /simple/flask/\n",
      "WARNING: Retrying (Retry(total=4, connect=None, read=None, redirect=None, status=None)) after connection broken by 'NewConnectionError('<pip._vendor.urllib3.connection.HTTPSConnection object at 0x0000022C94942040>: Failed to establish a new connection: [Errno 11001] getaddrinfo failed')': /simple/visualdl/\n",
      "WARNING: Retrying (Retry(total=3, connect=None, read=None, redirect=None, status=None)) after connection broken by 'NewConnectionError('<pip._vendor.urllib3.connection.HTTPSConnection object at 0x0000022C94942850>: Failed to establish a new connection: [Errno 11001] getaddrinfo failed')': /simple/visualdl/\n",
      "WARNING: Retrying (Retry(total=2, connect=None, read=None, redirect=None, status=None)) after connection broken by 'NewConnectionError('<pip._vendor.urllib3.connection.HTTPSConnection object at 0x0000022C9498B8E0>: Failed to establish a new connection: [Errno 11001] getaddrinfo failed')': /simple/visualdl/\n",
      "WARNING: Retrying (Retry(total=1, connect=None, read=None, redirect=None, status=None)) after connection broken by 'NewConnectionError('<pip._vendor.urllib3.connection.HTTPSConnection object at 0x0000022C94947B50>: Failed to establish a new connection: [Errno 11001] getaddrinfo failed')': /simple/visualdl/\n",
      "WARNING: Retrying (Retry(total=0, connect=None, read=None, redirect=None, status=None)) after connection broken by 'NewConnectionError('<pip._vendor.urllib3.connection.HTTPSConnection object at 0x0000022C94947910>: Failed to establish a new connection: [Errno 11001] getaddrinfo failed')': /simple/visualdl/\n",
      "WARNING: Retrying (Retry(total=4, connect=None, read=None, redirect=None, status=None)) after connection broken by 'NewConnectionError('<pip._vendor.urllib3.connection.HTTPSConnection object at 0x0000022C9491A430>: Failed to establish a new connection: [Errno 11001] getaddrinfo failed')': /simple/tqdm/\n",
      "WARNING: Retrying (Retry(total=3, connect=None, read=None, redirect=None, status=None)) after connection broken by 'NewConnectionError('<pip._vendor.urllib3.connection.HTTPSConnection object at 0x0000022C94932580>: Failed to establish a new connection: [Errno 11001] getaddrinfo failed')': /simple/tqdm/\n",
      "WARNING: Retrying (Retry(total=2, connect=None, read=None, redirect=None, status=None)) after connection broken by 'NewConnectionError('<pip._vendor.urllib3.connection.HTTPSConnection object at 0x0000022C94932910>: Failed to establish a new connection: [Errno 11001] getaddrinfo failed')': /simple/tqdm/\n",
      "WARNING: Retrying (Retry(total=1, connect=None, read=None, redirect=None, status=None)) after connection broken by 'NewConnectionError('<pip._vendor.urllib3.connection.HTTPSConnection object at 0x0000022C949324F0>: Failed to establish a new connection: [Errno 11001] getaddrinfo failed')': /simple/tqdm/\n",
      "WARNING: Retrying (Retry(total=0, connect=None, read=None, redirect=None, status=None)) after connection broken by 'NewConnectionError('<pip._vendor.urllib3.connection.HTTPSConnection object at 0x0000022C94932310>: Failed to establish a new connection: [Errno 11001] getaddrinfo failed')': /simple/tqdm/\n",
      "WARNING: Retrying (Retry(total=4, connect=None, read=None, redirect=None, status=None)) after connection broken by 'NewConnectionError('<pip._vendor.urllib3.connection.HTTPSConnection object at 0x0000022C94903F10>: Failed to establish a new connection: [Errno 11001] getaddrinfo failed')': /simple/shapely/\n",
      "WARNING: Retrying (Retry(total=3, connect=None, read=None, redirect=None, status=None)) after connection broken by 'NewConnectionError('<pip._vendor.urllib3.connection.HTTPSConnection object at 0x0000022C94938AF0>: Failed to establish a new connection: [Errno 11001] getaddrinfo failed')': /simple/shapely/\n",
      "WARNING: Retrying (Retry(total=2, connect=None, read=None, redirect=None, status=None)) after connection broken by 'NewConnectionError('<pip._vendor.urllib3.connection.HTTPSConnection object at 0x0000022C94938340>: Failed to establish a new connection: [Errno 11001] getaddrinfo failed')': /simple/shapely/\n",
      "WARNING: Retrying (Retry(total=1, connect=None, read=None, redirect=None, status=None)) after connection broken by 'NewConnectionError('<pip._vendor.urllib3.connection.HTTPSConnection object at 0x0000022C949385E0>: Failed to establish a new connection: [Errno 11001] getaddrinfo failed')': /simple/shapely/\n",
      "WARNING: Retrying (Retry(total=0, connect=None, read=None, redirect=None, status=None)) after connection broken by 'NewConnectionError('<pip._vendor.urllib3.connection.HTTPSConnection object at 0x0000022C94938880>: Failed to establish a new connection: [Errno 11001] getaddrinfo failed')': /simple/shapely/\n",
      "WARNING: Retrying (Retry(total=4, connect=None, read=None, redirect=None, status=None)) after connection broken by 'NewConnectionError('<pip._vendor.urllib3.connection.HTTPSConnection object at 0x0000022C94938400>: Failed to establish a new connection: [Errno 11001] getaddrinfo failed')': /simple/rapidfuzz/\n",
      "WARNING: Retrying (Retry(total=3, connect=None, read=None, redirect=None, status=None)) after connection broken by 'NewConnectionError('<pip._vendor.urllib3.connection.HTTPSConnection object at 0x0000022C949311C0>: Failed to establish a new connection: [Errno 11001] getaddrinfo failed')': /simple/rapidfuzz/\n",
      "WARNING: Retrying (Retry(total=2, connect=None, read=None, redirect=None, status=None)) after connection broken by 'NewConnectionError('<pip._vendor.urllib3.connection.HTTPSConnection object at 0x0000022C949382E0>: Failed to establish a new connection: [Errno 11001] getaddrinfo failed')': /simple/rapidfuzz/\n",
      "WARNING: Retrying (Retry(total=1, connect=None, read=None, redirect=None, status=None)) after connection broken by 'NewConnectionError('<pip._vendor.urllib3.connection.HTTPSConnection object at 0x0000022C949388B0>: Failed to establish a new connection: [Errno 11001] getaddrinfo failed')': /simple/rapidfuzz/\n",
      "WARNING: Retrying (Retry(total=0, connect=None, read=None, redirect=None, status=None)) after connection broken by 'NewConnectionError('<pip._vendor.urllib3.connection.HTTPSConnection object at 0x0000022C94938340>: Failed to establish a new connection: [Errno 11001] getaddrinfo failed')': /simple/rapidfuzz/\n",
      "WARNING: Retrying (Retry(total=4, connect=None, read=None, redirect=None, status=None)) after connection broken by 'NewConnectionError('<pip._vendor.urllib3.connection.HTTPSConnection object at 0x0000022C94932A90>: Failed to establish a new connection: [Errno 11001] getaddrinfo failed')': /simple/pyclipper/\n",
      "WARNING: Retrying (Retry(total=3, connect=None, read=None, redirect=None, status=None)) after connection broken by 'NewConnectionError('<pip._vendor.urllib3.connection.HTTPSConnection object at 0x0000022C94932070>: Failed to establish a new connection: [Errno 11001] getaddrinfo failed')': /simple/pyclipper/\n",
      "WARNING: Retrying (Retry(total=2, connect=None, read=None, redirect=None, status=None)) after connection broken by 'NewConnectionError('<pip._vendor.urllib3.connection.HTTPSConnection object at 0x0000022C94932670>: Failed to establish a new connection: [Errno 11001] getaddrinfo failed')': /simple/pyclipper/\n",
      "WARNING: Retrying (Retry(total=1, connect=None, read=None, redirect=None, status=None)) after connection broken by 'NewConnectionError('<pip._vendor.urllib3.connection.HTTPSConnection object at 0x0000022C94932CD0>: Failed to establish a new connection: [Errno 11001] getaddrinfo failed')': /simple/pyclipper/\n",
      "WARNING: Retrying (Retry(total=0, connect=None, read=None, redirect=None, status=None)) after connection broken by 'NewConnectionError('<pip._vendor.urllib3.connection.HTTPSConnection object at 0x0000022C94932610>: Failed to establish a new connection: [Errno 11001] getaddrinfo failed')': /simple/pyclipper/\n",
      "WARNING: Retrying (Retry(total=4, connect=None, read=None, redirect=None, status=None)) after connection broken by 'NewConnectionError('<pip._vendor.urllib3.connection.HTTPSConnection object at 0x0000022C949259A0>: Failed to establish a new connection: [Errno 11001] getaddrinfo failed')': /simple/premailer/\n",
      "WARNING: Retrying (Retry(total=3, connect=None, read=None, redirect=None, status=None)) after connection broken by 'NewConnectionError('<pip._vendor.urllib3.connection.HTTPSConnection object at 0x0000022C949424C0>: Failed to establish a new connection: [Errno 11001] getaddrinfo failed')': /simple/premailer/\n",
      "WARNING: Retrying (Retry(total=2, connect=None, read=None, redirect=None, status=None)) after connection broken by 'NewConnectionError('<pip._vendor.urllib3.connection.HTTPSConnection object at 0x0000022C94892A60>: Failed to establish a new connection: [Errno 11001] getaddrinfo failed')': /simple/premailer/\n",
      "WARNING: Retrying (Retry(total=1, connect=None, read=None, redirect=None, status=None)) after connection broken by 'NewConnectionError('<pip._vendor.urllib3.connection.HTTPSConnection object at 0x0000022C94942AC0>: Failed to establish a new connection: [Errno 11001] getaddrinfo failed')': /simple/premailer/\n",
      "WARNING: Retrying (Retry(total=0, connect=None, read=None, redirect=None, status=None)) after connection broken by 'NewConnectionError('<pip._vendor.urllib3.connection.HTTPSConnection object at 0x0000022C9497F130>: Failed to establish a new connection: [Errno 11001] getaddrinfo failed')': /simple/premailer/\n",
      "WARNING: Retrying (Retry(total=4, connect=None, read=None, redirect=None, status=None)) after connection broken by 'NewConnectionError('<pip._vendor.urllib3.connection.HTTPSConnection object at 0x0000022C949054C0>: Failed to establish a new connection: [Errno 11001] getaddrinfo failed')': /simple/python-docx/\n",
      "WARNING: Retrying (Retry(total=3, connect=None, read=None, redirect=None, status=None)) after connection broken by 'NewConnectionError('<pip._vendor.urllib3.connection.HTTPSConnection object at 0x0000022C94905E50>: Failed to establish a new connection: [Errno 11001] getaddrinfo failed')': /simple/python-docx/\n",
      "WARNING: Retrying (Retry(total=2, connect=None, read=None, redirect=None, status=None)) after connection broken by 'NewConnectionError('<pip._vendor.urllib3.connection.HTTPSConnection object at 0x0000022C94905790>: Failed to establish a new connection: [Errno 11001] getaddrinfo failed')': /simple/python-docx/\n",
      "WARNING: Retrying (Retry(total=1, connect=None, read=None, redirect=None, status=None)) after connection broken by 'NewConnectionError('<pip._vendor.urllib3.connection.HTTPSConnection object at 0x0000022C94903CA0>: Failed to establish a new connection: [Errno 11001] getaddrinfo failed')': /simple/python-docx/\n",
      "WARNING: Retrying (Retry(total=0, connect=None, read=None, redirect=None, status=None)) after connection broken by 'NewConnectionError('<pip._vendor.urllib3.connection.HTTPSConnection object at 0x0000022C949381F0>: Failed to establish a new connection: [Errno 11001] getaddrinfo failed')': /simple/python-docx/\n",
      "WARNING: Retrying (Retry(total=4, connect=None, read=None, redirect=None, status=None)) after connection broken by 'NewConnectionError('<pip._vendor.urllib3.connection.HTTPSConnection object at 0x0000022C94905670>: Failed to establish a new connection: [Errno 11001] getaddrinfo failed')': /simple/pdf2docx/\n",
      "WARNING: Retrying (Retry(total=3, connect=None, read=None, redirect=None, status=None)) after connection broken by 'NewConnectionError('<pip._vendor.urllib3.connection.HTTPSConnection object at 0x0000022C94985220>: Failed to establish a new connection: [Errno 11001] getaddrinfo failed')': /simple/pdf2docx/\n",
      "WARNING: Retrying (Retry(total=2, connect=None, read=None, redirect=None, status=None)) after connection broken by 'NewConnectionError('<pip._vendor.urllib3.connection.HTTPSConnection object at 0x0000022C949608E0>: Failed to establish a new connection: [Errno 11001] getaddrinfo failed')': /simple/pdf2docx/\n",
      "WARNING: Retrying (Retry(total=1, connect=None, read=None, redirect=None, status=None)) after connection broken by 'NewConnectionError('<pip._vendor.urllib3.connection.HTTPSConnection object at 0x0000022C948F8310>: Failed to establish a new connection: [Errno 11001] getaddrinfo failed')': /simple/pdf2docx/\n",
      "WARNING: Retrying (Retry(total=0, connect=None, read=None, redirect=None, status=None)) after connection broken by 'NewConnectionError('<pip._vendor.urllib3.connection.HTTPSConnection object at 0x0000022C9498B4F0>: Failed to establish a new connection: [Errno 11001] getaddrinfo failed')': /simple/pdf2docx/\n",
      "WARNING: Retrying (Retry(total=4, connect=None, read=None, redirect=None, status=None)) after connection broken by 'NewConnectionError('<pip._vendor.urllib3.connection.HTTPSConnection object at 0x0000022C948ECFD0>: Failed to establish a new connection: [Errno 11001] getaddrinfo failed')': /simple/openpyxl/\n",
      "WARNING: Retrying (Retry(total=3, connect=None, read=None, redirect=None, status=None)) after connection broken by 'NewConnectionError('<pip._vendor.urllib3.connection.HTTPSConnection object at 0x0000022C948ECA60>: Failed to establish a new connection: [Errno 11001] getaddrinfo failed')': /simple/openpyxl/\n",
      "WARNING: Retrying (Retry(total=2, connect=None, read=None, redirect=None, status=None)) after connection broken by 'NewConnectionError('<pip._vendor.urllib3.connection.HTTPSConnection object at 0x0000022C948ECD90>: Failed to establish a new connection: [Errno 11001] getaddrinfo failed')': /simple/openpyxl/\n",
      "WARNING: Retrying (Retry(total=1, connect=None, read=None, redirect=None, status=None)) after connection broken by 'NewConnectionError('<pip._vendor.urllib3.connection.HTTPSConnection object at 0x0000022C948E8FD0>: Failed to establish a new connection: [Errno 11001] getaddrinfo failed')': /simple/openpyxl/\n",
      "WARNING: Retrying (Retry(total=0, connect=None, read=None, redirect=None, status=None)) after connection broken by 'NewConnectionError('<pip._vendor.urllib3.connection.HTTPSConnection object at 0x0000022C948F0880>: Failed to establish a new connection: [Errno 11001] getaddrinfo failed')': /simple/openpyxl/\n",
      "WARNING: Retrying (Retry(total=4, connect=None, read=None, redirect=None, status=None)) after connection broken by 'NewConnectionError('<pip._vendor.urllib3.connection.HTTPSConnection object at 0x0000022C948F0400>: Failed to establish a new connection: [Errno 11001] getaddrinfo failed')': /simple/lxml/\n",
      "WARNING: Retrying (Retry(total=3, connect=None, read=None, redirect=None, status=None)) after connection broken by 'NewConnectionError('<pip._vendor.urllib3.connection.HTTPSConnection object at 0x0000022C948E47F0>: Failed to establish a new connection: [Errno 11001] getaddrinfo failed')': /simple/lxml/\n",
      "WARNING: Retrying (Retry(total=2, connect=None, read=None, redirect=None, status=None)) after connection broken by 'NewConnectionError('<pip._vendor.urllib3.connection.HTTPSConnection object at 0x0000022C948E4EE0>: Failed to establish a new connection: [Errno 11001] getaddrinfo failed')': /simple/lxml/\n",
      "WARNING: Retrying (Retry(total=1, connect=None, read=None, redirect=None, status=None)) after connection broken by 'NewConnectionError('<pip._vendor.urllib3.connection.HTTPSConnection object at 0x0000022C948E4310>: Failed to establish a new connection: [Errno 11001] getaddrinfo failed')': /simple/lxml/\n",
      "WARNING: Retrying (Retry(total=0, connect=None, read=None, redirect=None, status=None)) after connection broken by 'NewConnectionError('<pip._vendor.urllib3.connection.HTTPSConnection object at 0x0000022C94905520>: Failed to establish a new connection: [Errno 11001] getaddrinfo failed')': /simple/lxml/\n",
      "WARNING: Retrying (Retry(total=4, connect=None, read=None, redirect=None, status=None)) after connection broken by 'NewConnectionError('<pip._vendor.urllib3.connection.HTTPSConnection object at 0x0000022C94905400>: Failed to establish a new connection: [Errno 11001] getaddrinfo failed')': /simple/lmdb/\n",
      "WARNING: Retrying (Retry(total=3, connect=None, read=None, redirect=None, status=None)) after connection broken by 'NewConnectionError('<pip._vendor.urllib3.connection.HTTPSConnection object at 0x0000022C94905430>: Failed to establish a new connection: [Errno 11001] getaddrinfo failed')': /simple/lmdb/\n",
      "WARNING: Retrying (Retry(total=2, connect=None, read=None, redirect=None, status=None)) after connection broken by 'NewConnectionError('<pip._vendor.urllib3.connection.HTTPSConnection object at 0x0000022C94905C70>: Failed to establish a new connection: [Errno 11001] getaddrinfo failed')': /simple/lmdb/\n",
      "WARNING: Retrying (Retry(total=1, connect=None, read=None, redirect=None, status=None)) after connection broken by 'NewConnectionError('<pip._vendor.urllib3.connection.HTTPSConnection object at 0x0000022C948F46D0>: Failed to establish a new connection: [Errno 11001] getaddrinfo failed')': /simple/lmdb/\n",
      "WARNING: Retrying (Retry(total=0, connect=None, read=None, redirect=None, status=None)) after connection broken by 'NewConnectionError('<pip._vendor.urllib3.connection.HTTPSConnection object at 0x0000022C9497FAF0>: Failed to establish a new connection: [Errno 11001] getaddrinfo failed')': /simple/lmdb/\n",
      "WARNING: Retrying (Retry(total=4, connect=None, read=None, redirect=None, status=None)) after connection broken by 'NewConnectionError('<pip._vendor.urllib3.connection.HTTPSConnection object at 0x0000022C94942100>: Failed to establish a new connection: [Errno 11001] getaddrinfo failed')': /simple/scikit-image/\n",
      "WARNING: Retrying (Retry(total=3, connect=None, read=None, redirect=None, status=None)) after connection broken by 'NewConnectionError('<pip._vendor.urllib3.connection.HTTPSConnection object at 0x0000022C949425E0>: Failed to establish a new connection: [Errno 11001] getaddrinfo failed')': /simple/scikit-image/\n",
      "WARNING: Retrying (Retry(total=2, connect=None, read=None, redirect=None, status=None)) after connection broken by 'NewConnectionError('<pip._vendor.urllib3.connection.HTTPSConnection object at 0x0000022C94925EB0>: Failed to establish a new connection: [Errno 11001] getaddrinfo failed')': /simple/scikit-image/\n",
      "WARNING: Retrying (Retry(total=1, connect=None, read=None, redirect=None, status=None)) after connection broken by 'NewConnectionError('<pip._vendor.urllib3.connection.HTTPSConnection object at 0x0000022C948E2160>: Failed to establish a new connection: [Errno 11001] getaddrinfo failed')': /simple/scikit-image/\n",
      "WARNING: Retrying (Retry(total=0, connect=None, read=None, redirect=None, status=None)) after connection broken by 'NewConnectionError('<pip._vendor.urllib3.connection.HTTPSConnection object at 0x0000022C948F4520>: Failed to establish a new connection: [Errno 11001] getaddrinfo failed')': /simple/scikit-image/\n",
      "WARNING: Retrying (Retry(total=4, connect=None, read=None, redirect=None, status=None)) after connection broken by 'NewConnectionError('<pip._vendor.urllib3.connection.HTTPSConnection object at 0x0000022C948ACC40>: Failed to establish a new connection: [Errno 11001] getaddrinfo failed')': /simple/imgaug/\n",
      "WARNING: Retrying (Retry(total=3, connect=None, read=None, redirect=None, status=None)) after connection broken by 'NewConnectionError('<pip._vendor.urllib3.connection.HTTPSConnection object at 0x0000022C948C2070>: Failed to establish a new connection: [Errno 11001] getaddrinfo failed')': /simple/imgaug/\n",
      "WARNING: Retrying (Retry(total=2, connect=None, read=None, redirect=None, status=None)) after connection broken by 'NewConnectionError('<pip._vendor.urllib3.connection.HTTPSConnection object at 0x0000022C948D3460>: Failed to establish a new connection: [Errno 11001] getaddrinfo failed')': /simple/imgaug/\n",
      "WARNING: Retrying (Retry(total=1, connect=None, read=None, redirect=None, status=None)) after connection broken by 'NewConnectionError('<pip._vendor.urllib3.connection.HTTPSConnection object at 0x0000022C948DBA30>: Failed to establish a new connection: [Errno 11001] getaddrinfo failed')': /simple/imgaug/\n",
      "WARNING: Retrying (Retry(total=0, connect=None, read=None, redirect=None, status=None)) after connection broken by 'NewConnectionError('<pip._vendor.urllib3.connection.HTTPSConnection object at 0x0000022C948DB640>: Failed to establish a new connection: [Errno 11001] getaddrinfo failed')': /simple/imgaug/\n",
      "WARNING: Retrying (Retry(total=4, connect=None, read=None, redirect=None, status=None)) after connection broken by 'NewConnectionError('<pip._vendor.urllib3.connection.HTTPSConnection object at 0x0000022C948B49A0>: Failed to establish a new connection: [Errno 11001] getaddrinfo failed')': /simple/cython/\n",
      "WARNING: Retrying (Retry(total=3, connect=None, read=None, redirect=None, status=None)) after connection broken by 'NewConnectionError('<pip._vendor.urllib3.connection.HTTPSConnection object at 0x0000022C948B4910>: Failed to establish a new connection: [Errno 11001] getaddrinfo failed')': /simple/cython/\n",
      "WARNING: Retrying (Retry(total=2, connect=None, read=None, redirect=None, status=None)) after connection broken by 'NewConnectionError('<pip._vendor.urllib3.connection.HTTPSConnection object at 0x0000022C948B4BB0>: Failed to establish a new connection: [Errno 11001] getaddrinfo failed')': /simple/cython/\n",
      "WARNING: Retrying (Retry(total=1, connect=None, read=None, redirect=None, status=None)) after connection broken by 'NewConnectionError('<pip._vendor.urllib3.connection.HTTPSConnection object at 0x0000022C948B47F0>: Failed to establish a new connection: [Errno 11001] getaddrinfo failed')': /simple/cython/\n",
      "WARNING: Retrying (Retry(total=0, connect=None, read=None, redirect=None, status=None)) after connection broken by 'NewConnectionError('<pip._vendor.urllib3.connection.HTTPSConnection object at 0x0000022C948B4E50>: Failed to establish a new connection: [Errno 11001] getaddrinfo failed')': /simple/cython/\n",
      "WARNING: Retrying (Retry(total=4, connect=None, read=None, redirect=None, status=None)) after connection broken by 'NewConnectionError('<pip._vendor.urllib3.connection.HTTPSConnection object at 0x0000022C948DB070>: Failed to establish a new connection: [Errno 11001] getaddrinfo failed')': /simple/beautifulsoup4/\n",
      "WARNING: Retrying (Retry(total=3, connect=None, read=None, redirect=None, status=None)) after connection broken by 'NewConnectionError('<pip._vendor.urllib3.connection.HTTPSConnection object at 0x0000022C948D7490>: Failed to establish a new connection: [Errno 11001] getaddrinfo failed')': /simple/beautifulsoup4/\n",
      "WARNING: Retrying (Retry(total=2, connect=None, read=None, redirect=None, status=None)) after connection broken by 'NewConnectionError('<pip._vendor.urllib3.connection.HTTPSConnection object at 0x0000022C948F4100>: Failed to establish a new connection: [Errno 11001] getaddrinfo failed')': /simple/beautifulsoup4/\n",
      "WARNING: Retrying (Retry(total=1, connect=None, read=None, redirect=None, status=None)) after connection broken by 'NewConnectionError('<pip._vendor.urllib3.connection.HTTPSConnection object at 0x0000022C949057F0>: Failed to establish a new connection: [Errno 11001] getaddrinfo failed')': /simple/beautifulsoup4/\n",
      "WARNING: Retrying (Retry(total=0, connect=None, read=None, redirect=None, status=None)) after connection broken by 'NewConnectionError('<pip._vendor.urllib3.connection.HTTPSConnection object at 0x0000022C94905070>: Failed to establish a new connection: [Errno 11001] getaddrinfo failed')': /simple/beautifulsoup4/\n",
      "WARNING: Retrying (Retry(total=4, connect=None, read=None, redirect=None, status=None)) after connection broken by 'NewConnectionError('<pip._vendor.urllib3.connection.HTTPSConnection object at 0x0000022C94905700>: Failed to establish a new connection: [Errno 11001] getaddrinfo failed')': /simple/attrdict/\n",
      "WARNING: Retrying (Retry(total=3, connect=None, read=None, redirect=None, status=None)) after connection broken by 'NewConnectionError('<pip._vendor.urllib3.connection.HTTPSConnection object at 0x0000022C94905E50>: Failed to establish a new connection: [Errno 11001] getaddrinfo failed')': /simple/attrdict/\n",
      "WARNING: Retrying (Retry(total=2, connect=None, read=None, redirect=None, status=None)) after connection broken by 'NewConnectionError('<pip._vendor.urllib3.connection.HTTPSConnection object at 0x0000022C949058E0>: Failed to establish a new connection: [Errno 11001] getaddrinfo failed')': /simple/attrdict/\n",
      "WARNING: Retrying (Retry(total=1, connect=None, read=None, redirect=None, status=None)) after connection broken by 'NewConnectionError('<pip._vendor.urllib3.connection.HTTPSConnection object at 0x0000022C948D8CD0>: Failed to establish a new connection: [Errno 11001] getaddrinfo failed')': /simple/attrdict/\n",
      "WARNING: Retrying (Retry(total=0, connect=None, read=None, redirect=None, status=None)) after connection broken by 'NewConnectionError('<pip._vendor.urllib3.connection.HTTPSConnection object at 0x0000022C948D3BE0>: Failed to establish a new connection: [Errno 11001] getaddrinfo failed')': /simple/attrdict/\n",
      "WARNING: Retrying (Retry(total=4, connect=None, read=None, redirect=None, status=None)) after connection broken by 'NewConnectionError('<pip._vendor.urllib3.connection.HTTPSConnection object at 0x0000022C948E2790>: Failed to establish a new connection: [Errno 11001] getaddrinfo failed')': /simple/pymupdf/\n",
      "WARNING: Retrying (Retry(total=3, connect=None, read=None, redirect=None, status=None)) after connection broken by 'NewConnectionError('<pip._vendor.urllib3.connection.HTTPSConnection object at 0x0000022C9497F1C0>: Failed to establish a new connection: [Errno 11001] getaddrinfo failed')': /simple/pymupdf/\n",
      "WARNING: Retrying (Retry(total=2, connect=None, read=None, redirect=None, status=None)) after connection broken by 'NewConnectionError('<pip._vendor.urllib3.connection.HTTPSConnection object at 0x0000022C9497F040>: Failed to establish a new connection: [Errno 11001] getaddrinfo failed')': /simple/pymupdf/\n",
      "WARNING: Retrying (Retry(total=1, connect=None, read=None, redirect=None, status=None)) after connection broken by 'NewConnectionError('<pip._vendor.urllib3.connection.HTTPSConnection object at 0x0000022C949426D0>: Failed to establish a new connection: [Errno 11001] getaddrinfo failed')': /simple/pymupdf/\n",
      "WARNING: Retrying (Retry(total=0, connect=None, read=None, redirect=None, status=None)) after connection broken by 'NewConnectionError('<pip._vendor.urllib3.connection.HTTPSConnection object at 0x0000022C949424F0>: Failed to establish a new connection: [Errno 11001] getaddrinfo failed')': /simple/pymupdf/\n",
      "WARNING: Retrying (Retry(total=4, connect=None, read=None, redirect=None, status=None)) after connection broken by 'NewConnectionError('<pip._vendor.urllib3.connection.HTTPSConnection object at 0x0000022C948F8940>: Failed to establish a new connection: [Errno 11001] getaddrinfo failed')': /simple/opencv-python/\n",
      "WARNING: Retrying (Retry(total=3, connect=None, read=None, redirect=None, status=None)) after connection broken by 'NewConnectionError('<pip._vendor.urllib3.connection.HTTPSConnection object at 0x0000022C94905EE0>: Failed to establish a new connection: [Errno 11001] getaddrinfo failed')': /simple/opencv-python/\n",
      "WARNING: Retrying (Retry(total=2, connect=None, read=None, redirect=None, status=None)) after connection broken by 'NewConnectionError('<pip._vendor.urllib3.connection.HTTPSConnection object at 0x0000022C94905670>: Failed to establish a new connection: [Errno 11001] getaddrinfo failed')': /simple/opencv-python/\n",
      "WARNING: Retrying (Retry(total=1, connect=None, read=None, redirect=None, status=None)) after connection broken by 'NewConnectionError('<pip._vendor.urllib3.connection.HTTPSConnection object at 0x0000022C94925610>: Failed to establish a new connection: [Errno 11001] getaddrinfo failed')': /simple/opencv-python/\n",
      "WARNING: Retrying (Retry(total=0, connect=None, read=None, redirect=None, status=None)) after connection broken by 'NewConnectionError('<pip._vendor.urllib3.connection.HTTPSConnection object at 0x0000022C94925460>: Failed to establish a new connection: [Errno 11001] getaddrinfo failed')': /simple/opencv-python/\n",
      "WARNING: Retrying (Retry(total=4, connect=None, read=None, redirect=None, status=None)) after connection broken by 'NewConnectionError('<pip._vendor.urllib3.connection.HTTPSConnection object at 0x0000022C948F44F0>: Failed to establish a new connection: [Errno 11001] getaddrinfo failed')': /simple/numpy/\n",
      "WARNING: Retrying (Retry(total=3, connect=None, read=None, redirect=None, status=None)) after connection broken by 'NewConnectionError('<pip._vendor.urllib3.connection.HTTPSConnection object at 0x0000022C94985EB0>: Failed to establish a new connection: [Errno 11001] getaddrinfo failed')': /simple/numpy/\n",
      "WARNING: Retrying (Retry(total=2, connect=None, read=None, redirect=None, status=None)) after connection broken by 'NewConnectionError('<pip._vendor.urllib3.connection.HTTPSConnection object at 0x0000022C94985D60>: Failed to establish a new connection: [Errno 11001] getaddrinfo failed')': /simple/numpy/\n",
      "WARNING: Retrying (Retry(total=1, connect=None, read=None, redirect=None, status=None)) after connection broken by 'NewConnectionError('<pip._vendor.urllib3.connection.HTTPSConnection object at 0x0000022C948DB040>: Failed to establish a new connection: [Errno 11001] getaddrinfo failed')': /simple/numpy/\n",
      "WARNING: Retrying (Retry(total=0, connect=None, read=None, redirect=None, status=None)) after connection broken by 'NewConnectionError('<pip._vendor.urllib3.connection.HTTPSConnection object at 0x0000022C948DB6A0>: Failed to establish a new connection: [Errno 11001] getaddrinfo failed')': /simple/numpy/\n",
      "WARNING: Retrying (Retry(total=4, connect=None, read=None, redirect=None, status=None)) after connection broken by 'NewConnectionError('<pip._vendor.urllib3.connection.HTTPSConnection object at 0x0000022C948D7FA0>: Failed to establish a new connection: [Errno 11001] getaddrinfo failed')': /simple/opencv-contrib-python/\n",
      "WARNING: Retrying (Retry(total=3, connect=None, read=None, redirect=None, status=None)) after connection broken by 'NewConnectionError('<pip._vendor.urllib3.connection.HTTPSConnection object at 0x0000022C948C2400>: Failed to establish a new connection: [Errno 11001] getaddrinfo failed')': /simple/opencv-contrib-python/\n",
      "WARNING: Retrying (Retry(total=2, connect=None, read=None, redirect=None, status=None)) after connection broken by 'NewConnectionError('<pip._vendor.urllib3.connection.HTTPSConnection object at 0x0000022C948DBCD0>: Failed to establish a new connection: [Errno 11001] getaddrinfo failed')': /simple/opencv-contrib-python/\n",
      "WARNING: Retrying (Retry(total=1, connect=None, read=None, redirect=None, status=None)) after connection broken by 'NewConnectionError('<pip._vendor.urllib3.connection.HTTPSConnection object at 0x0000022C948DB850>: Failed to establish a new connection: [Errno 11001] getaddrinfo failed')': /simple/opencv-contrib-python/\n",
      "WARNING: Retrying (Retry(total=0, connect=None, read=None, redirect=None, status=None)) after connection broken by 'NewConnectionError('<pip._vendor.urllib3.connection.HTTPSConnection object at 0x0000022C948DB070>: Failed to establish a new connection: [Errno 11001] getaddrinfo failed')': /simple/opencv-contrib-python/\n",
      "WARNING: Retrying (Retry(total=4, connect=None, read=None, redirect=None, status=None)) after connection broken by 'NewConnectionError('<pip._vendor.urllib3.connection.HTTPSConnection object at 0x0000022C94925FA0>: Failed to establish a new connection: [Errno 11001] getaddrinfo failed')': /simple/fonttools/\n",
      "WARNING: Retrying (Retry(total=3, connect=None, read=None, redirect=None, status=None)) after connection broken by 'NewConnectionError('<pip._vendor.urllib3.connection.HTTPSConnection object at 0x0000022C94960AF0>: Failed to establish a new connection: [Errno 11001] getaddrinfo failed')': /simple/fonttools/\n",
      "WARNING: Retrying (Retry(total=2, connect=None, read=None, redirect=None, status=None)) after connection broken by 'NewConnectionError('<pip._vendor.urllib3.connection.HTTPSConnection object at 0x0000022C94905370>: Failed to establish a new connection: [Errno 11001] getaddrinfo failed')': /simple/fonttools/\n",
      "WARNING: Retrying (Retry(total=1, connect=None, read=None, redirect=None, status=None)) after connection broken by 'NewConnectionError('<pip._vendor.urllib3.connection.HTTPSConnection object at 0x0000022C94905760>: Failed to establish a new connection: [Errno 11001] getaddrinfo failed')': /simple/fonttools/\n",
      "WARNING: Retrying (Retry(total=0, connect=None, read=None, redirect=None, status=None)) after connection broken by 'NewConnectionError('<pip._vendor.urllib3.connection.HTTPSConnection object at 0x0000022C948F82B0>: Failed to establish a new connection: [Errno 11001] getaddrinfo failed')': /simple/fonttools/\n",
      "WARNING: Retrying (Retry(total=4, connect=None, read=None, redirect=None, status=None)) after connection broken by 'NewConnectionError('<pip._vendor.urllib3.connection.HTTPSConnection object at 0x0000022C949423A0>: Failed to establish a new connection: [Errno 11001] getaddrinfo failed')': /simple/fire/\n",
      "WARNING: Retrying (Retry(total=3, connect=None, read=None, redirect=None, status=None)) after connection broken by 'NewConnectionError('<pip._vendor.urllib3.connection.HTTPSConnection object at 0x0000022C94942A90>: Failed to establish a new connection: [Errno 11001] getaddrinfo failed')': /simple/fire/\n",
      "WARNING: Retrying (Retry(total=2, connect=None, read=None, redirect=None, status=None)) after connection broken by 'NewConnectionError('<pip._vendor.urllib3.connection.HTTPSConnection object at 0x0000022C9497F220>: Failed to establish a new connection: [Errno 11001] getaddrinfo failed')': /simple/fire/\n",
      "WARNING: Retrying (Retry(total=1, connect=None, read=None, redirect=None, status=None)) after connection broken by 'NewConnectionError('<pip._vendor.urllib3.connection.HTTPSConnection object at 0x0000022C9497F2B0>: Failed to establish a new connection: [Errno 11001] getaddrinfo failed')': /simple/fire/\n",
      "WARNING: Retrying (Retry(total=0, connect=None, read=None, redirect=None, status=None)) after connection broken by 'NewConnectionError('<pip._vendor.urllib3.connection.HTTPSConnection object at 0x0000022C948E2DF0>: Failed to establish a new connection: [Errno 11001] getaddrinfo failed')': /simple/fire/\n",
      "WARNING: Retrying (Retry(total=4, connect=None, read=None, redirect=None, status=None)) after connection broken by 'NewConnectionError('<pip._vendor.urllib3.connection.HTTPSConnection object at 0x0000022C948CCD00>: Failed to establish a new connection: [Errno 11001] getaddrinfo failed')': /simple/paddleocr/\n",
      "WARNING: Retrying (Retry(total=3, connect=None, read=None, redirect=None, status=None)) after connection broken by 'NewConnectionError('<pip._vendor.urllib3.connection.HTTPSConnection object at 0x0000022C948AF670>: Failed to establish a new connection: [Errno 11001] getaddrinfo failed')': /simple/paddleocr/\n",
      "WARNING: Retrying (Retry(total=2, connect=None, read=None, redirect=None, status=None)) after connection broken by 'NewConnectionError('<pip._vendor.urllib3.connection.HTTPSConnection object at 0x0000022C948D3C10>: Failed to establish a new connection: [Errno 11001] getaddrinfo failed')': /simple/paddleocr/\n",
      "WARNING: Retrying (Retry(total=1, connect=None, read=None, redirect=None, status=None)) after connection broken by 'NewConnectionError('<pip._vendor.urllib3.connection.HTTPSConnection object at 0x0000022C948C6550>: Failed to establish a new connection: [Errno 11001] getaddrinfo failed')': /simple/paddleocr/\n",
      "WARNING: Retrying (Retry(total=0, connect=None, read=None, redirect=None, status=None)) after connection broken by 'NewConnectionError('<pip._vendor.urllib3.connection.HTTPSConnection object at 0x0000022C948AC250>: Failed to establish a new connection: [Errno 11001] getaddrinfo failed')': /simple/paddleocr/\n",
      "ERROR: Cannot install onnx==1.13.0 and visualdl==2.5.0 because these package versions have conflicting dependencies.\n",
      "ERROR: ResolutionImpossible: for help visit https://pip.pypa.io/en/latest/topics/dependency-resolution/#dealing-with-dependency-conflicts\n"
     ]
    }
   ],
   "source": [
    "!pip install paddleocr"
   ]
  },
  {
   "cell_type": "code",
   "execution_count": 2,
   "metadata": {
    "colab": {
     "base_uri": "https://localhost:8080/"
    },
    "id": "INwwHOpE_e_o",
    "outputId": "a54f9f5b-71e5-4f87-d793-c508ceebc04d"
   },
   "outputs": [
    {
     "name": "stdout",
     "output_type": "stream",
     "text": [
      "Requirement already satisfied: imgaug==0.2.5 in c:\\users\\sai\\anaconda3\\lib\\site-packages (0.2.5)\n",
      "Requirement already satisfied: numpy>=1.7.0 in c:\\users\\sai\\anaconda3\\lib\\site-packages (from imgaug==0.2.5) (1.21.5)\n",
      "Requirement already satisfied: scipy in c:\\users\\sai\\anaconda3\\lib\\site-packages (from imgaug==0.2.5) (1.9.1)\n",
      "Requirement already satisfied: scikit-image>=0.11.0 in c:\\users\\sai\\anaconda3\\lib\\site-packages (from imgaug==0.2.5) (0.19.2)\n",
      "Requirement already satisfied: six in c:\\users\\sai\\anaconda3\\lib\\site-packages (from imgaug==0.2.5) (1.16.0)\n",
      "Requirement already satisfied: tifffile>=2019.7.26 in c:\\users\\sai\\anaconda3\\lib\\site-packages (from scikit-image>=0.11.0->imgaug==0.2.5) (2021.7.2)\n",
      "Requirement already satisfied: PyWavelets>=1.1.1 in c:\\users\\sai\\anaconda3\\lib\\site-packages (from scikit-image>=0.11.0->imgaug==0.2.5) (1.3.0)\n",
      "Requirement already satisfied: pillow!=7.1.0,!=7.1.1,!=8.3.0,>=6.1.0 in c:\\users\\sai\\anaconda3\\lib\\site-packages (from scikit-image>=0.11.0->imgaug==0.2.5) (9.2.0)\n",
      "Requirement already satisfied: networkx>=2.2 in c:\\users\\sai\\anaconda3\\lib\\site-packages (from scikit-image>=0.11.0->imgaug==0.2.5) (2.8.4)\n",
      "Requirement already satisfied: packaging>=20.0 in c:\\users\\sai\\anaconda3\\lib\\site-packages (from scikit-image>=0.11.0->imgaug==0.2.5) (21.3)\n",
      "Requirement already satisfied: imageio>=2.4.1 in c:\\users\\sai\\anaconda3\\lib\\site-packages (from scikit-image>=0.11.0->imgaug==0.2.5) (2.19.3)\n",
      "Requirement already satisfied: pyparsing!=3.0.5,>=2.0.2 in c:\\users\\sai\\anaconda3\\lib\\site-packages (from packaging>=20.0->scikit-image>=0.11.0->imgaug==0.2.5) (3.0.9)\n"
     ]
    }
   ],
   "source": [
    "!pip install imgaug==0.2.5\n"
   ]
  },
  {
   "cell_type": "code",
   "execution_count": 3,
   "metadata": {
    "colab": {
     "base_uri": "https://localhost:8080/"
    },
    "id": "21Dc2AMRZoUo",
    "outputId": "dd5dfe29-d8f5-4e16-baab-9ae3cd98e287"
   },
   "outputs": [
    {
     "name": "stdout",
     "output_type": "stream",
     "text": [
      "Requirement already satisfied: paddlepaddle in c:\\users\\sai\\anaconda3\\lib\\site-packages (2.4.1)\n",
      "Requirement already satisfied: protobuf<=3.20.0,>=3.1.0 in c:\\users\\sai\\anaconda3\\lib\\site-packages (from paddlepaddle) (3.19.6)\n",
      "Requirement already satisfied: paddle-bfloat==0.1.7 in c:\\users\\sai\\anaconda3\\lib\\site-packages (from paddlepaddle) (0.1.7)\n",
      "Requirement already satisfied: six in c:\\users\\sai\\anaconda3\\lib\\site-packages (from paddlepaddle) (1.16.0)\n",
      "Requirement already satisfied: Pillow in c:\\users\\sai\\anaconda3\\lib\\site-packages (from paddlepaddle) (9.2.0)\n",
      "Requirement already satisfied: opt-einsum==3.3.0 in c:\\users\\sai\\anaconda3\\lib\\site-packages (from paddlepaddle) (3.3.0)\n",
      "Requirement already satisfied: astor in c:\\users\\sai\\anaconda3\\lib\\site-packages (from paddlepaddle) (0.8.1)\n",
      "Requirement already satisfied: requests>=2.20.0 in c:\\users\\sai\\anaconda3\\lib\\site-packages (from paddlepaddle) (2.28.1)\n",
      "Requirement already satisfied: numpy>=1.13 in c:\\users\\sai\\anaconda3\\lib\\site-packages (from paddlepaddle) (1.21.5)\n",
      "Requirement already satisfied: decorator in c:\\users\\sai\\anaconda3\\lib\\site-packages (from paddlepaddle) (5.1.1)\n",
      "Requirement already satisfied: urllib3<1.27,>=1.21.1 in c:\\users\\sai\\anaconda3\\lib\\site-packages (from requests>=2.20.0->paddlepaddle) (1.26.11)\n",
      "Requirement already satisfied: idna<4,>=2.5 in c:\\users\\sai\\anaconda3\\lib\\site-packages (from requests>=2.20.0->paddlepaddle) (3.3)\n",
      "Requirement already satisfied: certifi>=2017.4.17 in c:\\users\\sai\\anaconda3\\lib\\site-packages (from requests>=2.20.0->paddlepaddle) (2022.9.14)\n",
      "Requirement already satisfied: charset-normalizer<3,>=2 in c:\\users\\sai\\anaconda3\\lib\\site-packages (from requests>=2.20.0->paddlepaddle) (2.0.4)\n"
     ]
    }
   ],
   "source": [
    "!pip install paddlepaddle"
   ]
  },
  {
   "cell_type": "code",
   "execution_count": 4,
   "metadata": {
    "colab": {
     "base_uri": "https://localhost:8080/"
    },
    "id": "YSrNUl_CZtEO",
    "outputId": "8a23fc1f-4baa-4b9b-b9e1-fb91aadf5268"
   },
   "outputs": [
    {
     "name": "stdout",
     "output_type": "stream",
     "text": [
      "Requirement already satisfied: gTTS in c:\\users\\sai\\anaconda3\\lib\\site-packages (2.3.1)\n",
      "Requirement already satisfied: click<8.2,>=7.1 in c:\\users\\sai\\anaconda3\\lib\\site-packages (from gTTS) (8.0.4)\n",
      "Requirement already satisfied: requests<3,>=2.27 in c:\\users\\sai\\anaconda3\\lib\\site-packages (from gTTS) (2.28.1)\n",
      "Requirement already satisfied: colorama in c:\\users\\sai\\anaconda3\\lib\\site-packages (from click<8.2,>=7.1->gTTS) (0.4.5)\n",
      "Requirement already satisfied: charset-normalizer<3,>=2 in c:\\users\\sai\\anaconda3\\lib\\site-packages (from requests<3,>=2.27->gTTS) (2.0.4)\n",
      "Requirement already satisfied: certifi>=2017.4.17 in c:\\users\\sai\\anaconda3\\lib\\site-packages (from requests<3,>=2.27->gTTS) (2022.9.14)\n",
      "Requirement already satisfied: idna<4,>=2.5 in c:\\users\\sai\\anaconda3\\lib\\site-packages (from requests<3,>=2.27->gTTS) (3.3)\n",
      "Requirement already satisfied: urllib3<1.27,>=1.21.1 in c:\\users\\sai\\anaconda3\\lib\\site-packages (from requests<3,>=2.27->gTTS) (1.26.11)\n"
     ]
    }
   ],
   "source": [
    "!pip install gTTS"
   ]
  },
  {
   "cell_type": "code",
   "execution_count": 5,
   "metadata": {
    "colab": {
     "base_uri": "https://localhost:8080/"
    },
    "id": "G1w3DfJ3cjmx",
    "outputId": "e3ced9d9-3ae7-4879-ed8d-6a9cc24672bb"
   },
   "outputs": [
    {
     "name": "stderr",
     "output_type": "stream",
     "text": [
      "'git' is not recognized as an internal or external command,\n",
      "operable program or batch file.\n"
     ]
    }
   ],
   "source": [
    "!git clone https://github.com/PaddlePaddle/PaddleOCR"
   ]
  },
  {
   "cell_type": "code",
   "execution_count": 6,
   "metadata": {
    "colab": {
     "base_uri": "https://localhost:8080/"
    },
    "id": "ey-xl4EPdG2U",
    "outputId": "a8a7f367-93a1-4a74-d802-2a00dffdee2d"
   },
   "outputs": [],
   "source": [
    "from paddleocr import PaddleOCR, draw_ocr \n",
    "from matplotlib import pyplot as plt \n",
    "import cv2 \n",
    "import os"
   ]
  },
  {
   "cell_type": "code",
   "execution_count": null,
   "metadata": {
    "colab": {
     "base_uri": "https://localhost:8080/"
    },
    "id": "PnDLr6UXdUZc",
    "outputId": "d93bd3d8-63ea-436a-fb7e-9a422226a6d2"
   },
   "outputs": [
    {
     "name": "stdout",
     "output_type": "stream",
     "text": [
      "[2023/03/21 22:49:53] ppocr DEBUG: Namespace(help='==SUPPRESS==', use_gpu=False, use_xpu=False, use_npu=False, ir_optim=True, use_tensorrt=False, min_subgraph_size=15, precision='fp32', gpu_mem=500, image_dir=None, page_num=0, det_algorithm='DB', det_model_dir='C:\\\\Users\\\\sai/.paddleocr/whl\\\\det\\\\en\\\\en_PP-OCRv3_det_infer', det_limit_side_len=960, det_limit_type='max', det_box_type='quad', det_db_thresh=0.3, det_db_box_thresh=0.6, det_db_unclip_ratio=1.5, max_batch_size=10, use_dilation=False, det_db_score_mode='fast', det_east_score_thresh=0.8, det_east_cover_thresh=0.1, det_east_nms_thresh=0.2, det_sast_score_thresh=0.5, det_sast_nms_thresh=0.2, det_pse_thresh=0, det_pse_box_thresh=0.85, det_pse_min_area=16, det_pse_scale=1, scales=[8, 16, 32], alpha=1.0, beta=1.0, fourier_degree=5, rec_algorithm='SVTR_LCNet', rec_model_dir='C:\\\\Users\\\\sai/.paddleocr/whl\\\\rec\\\\en\\\\en_PP-OCRv3_rec_infer', rec_image_inverse=True, rec_image_shape='3, 48, 320', rec_batch_num=6, max_text_length=25, rec_char_dict_path='C:\\\\Users\\\\sai\\\\anaconda3\\\\lib\\\\site-packages\\\\paddleocr\\\\ppocr\\\\utils\\\\en_dict.txt', use_space_char=True, vis_font_path='./doc/fonts/simfang.ttf', drop_score=0.5, e2e_algorithm='PGNet', e2e_model_dir=None, e2e_limit_side_len=768, e2e_limit_type='max', e2e_pgnet_score_thresh=0.5, e2e_char_dict_path='./ppocr/utils/ic15_dict.txt', e2e_pgnet_valid_set='totaltext', e2e_pgnet_mode='fast', use_angle_cls=False, cls_model_dir='C:\\\\Users\\\\sai/.paddleocr/whl\\\\cls\\\\ch_ppocr_mobile_v2.0_cls_infer', cls_image_shape='3, 48, 192', label_list=['0', '180'], cls_batch_num=6, cls_thresh=0.9, enable_mkldnn=False, cpu_threads=10, use_pdserving=False, warmup=False, sr_model_dir=None, sr_image_shape='3, 32, 128', sr_batch_num=1, draw_img_save_dir='./inference_results', save_crop_res=False, crop_res_save_dir='./output', use_mp=False, total_process_num=1, process_id=0, benchmark=False, save_log_path='./log_output/', show_log=True, use_onnx=False, output='./output', table_max_len=488, table_algorithm='TableAttn', table_model_dir=None, merge_no_span_structure=True, table_char_dict_path=None, layout_model_dir=None, layout_dict_path=None, layout_score_threshold=0.5, layout_nms_threshold=0.5, kie_algorithm='LayoutXLM', ser_model_dir=None, re_model_dir=None, use_visual_backbone=True, ser_dict_path='../train_data/XFUND/class_list_xfun.txt', ocr_order_method=None, mode='structure', image_orientation=False, layout=True, table=True, ocr=True, recovery=False, use_pdf2docx_api=False, lang='en', det=True, rec=True, type='ocr', ocr_version='PP-OCRv3', structure_version='PP-StructureV2')\n"
     ]
    }
   ],
   "source": [
    "from paddleocr import PaddleOCR,draw_ocr\n",
    "ocr = PaddleOCR(lang='en') # need to run only once to download and load model into memory\n",
    "img_path = '/content/Resource_Label_Group_custom-pharmaceutical-labels-01.jpg'\n",
    "result = ocr.ocr(img_path, cls=False)\n",
    "for line in result:\n",
    "    print(line)\n",
    "\n",
    "# draw result\n",
    "from PIL import Image\n",
    "image = Image.open(img_path).convert('RGB')\n",
    "boxes = [line[0] for line in result]\n",
    "txts = [line[1][0] for line in result]\n",
    "scores = [line[1][1] for line in result]\n",
    "im_show = draw_ocr(image, boxes, txts, scores, font_path='/content/PaddleOCR/doc/fonts/latin.ttf')\n",
    "im_show = Image.fromarray(im_show)\n",
    "im_show.save('result.jpg')"
   ]
  },
  {
   "cell_type": "code",
   "execution_count": null,
   "metadata": {
    "colab": {
     "base_uri": "https://localhost:8080/"
    },
    "id": "tFC2lBzmeK0Z",
    "outputId": "10211994-368f-49a1-d29d-6ac8800b1e92"
   },
   "outputs": [],
   "source": [
    "ocr_model = PaddleOCR(lang='en')"
   ]
  },
  {
   "cell_type": "code",
   "execution_count": null,
   "metadata": {
    "id": "Epbj2SiMeRBn"
   },
   "outputs": [],
   "source": [
    "img_path = '/content/Resource_Label_Group_custom-pharmaceutical-labels-01.jpg'"
   ]
  },
  {
   "cell_type": "code",
   "execution_count": null,
   "metadata": {
    "colab": {
     "base_uri": "https://localhost:8080/"
    },
    "id": "ujZi5DFSe89-",
    "outputId": "ce6e98cf-493b-49a3-9ff7-eeacd450d2c2"
   },
   "outputs": [],
   "source": [
    "result = ocr_model.ocr(img_path)"
   ]
  },
  {
   "cell_type": "code",
   "execution_count": null,
   "metadata": {
    "colab": {
     "base_uri": "https://localhost:8080/"
    },
    "id": "7cTj-htbfD_s",
    "outputId": "aa16b07a-fe6d-47cf-cdb6-8525f7d03fc9"
   },
   "outputs": [],
   "source": [
    "result"
   ]
  },
  {
   "cell_type": "code",
   "execution_count": null,
   "metadata": {
    "colab": {
     "base_uri": "https://localhost:8080/"
    },
    "id": "rNSE-cN1fG4p",
    "outputId": "c7858e60-6111-4f07-9776-64a1dc738c8b"
   },
   "outputs": [],
   "source": [
    "result\n",
    "for res in result:\n",
    "    print(res[1][0])"
   ]
  },
  {
   "cell_type": "code",
   "execution_count": null,
   "metadata": {
    "id": "2RkBCWsefN4m"
   },
   "outputs": [],
   "source": [
    "boxes = [res[0] for res in result] \n",
    "txts = [res[1][0] for res in result]\n",
    "scores = [res[1][1] for res in result]"
   ]
  },
  {
   "cell_type": "code",
   "execution_count": null,
   "metadata": {
    "colab": {
     "base_uri": "https://localhost:8080/"
    },
    "id": "m9hc2kKbVcKu",
    "outputId": "073b3b48-0842-45bc-a763-c5e8c9eac50d"
   },
   "outputs": [],
   "source": [
    "txts"
   ]
  },
  {
   "cell_type": "code",
   "execution_count": null,
   "metadata": {
    "id": "x9ujLFKufTE1"
   },
   "outputs": [],
   "source": [
    "font_path = '/content/PaddleOCR/doc/fonts/latin.ttf'"
   ]
  },
  {
   "cell_type": "code",
   "execution_count": null,
   "metadata": {
    "id": "QDeYwUTRfe5L"
   },
   "outputs": [],
   "source": [
    "img = cv2.imread(img_path) \n",
    "\n",
    "\n",
    "img = cv2.cvtColor(img, cv2.COLOR_BGR2RGB) "
   ]
  },
  {
   "cell_type": "code",
   "execution_count": null,
   "metadata": {
    "colab": {
     "base_uri": "https://localhost:8080/",
     "height": 465
    },
    "id": "T7RoU_fqfpC3",
    "outputId": "6c1ee1c0-1d89-4a77-ce09-4b52833b4031"
   },
   "outputs": [],
   "source": [
    "plt.figure(figsize=(15,15))\n",
    "\n",
    "annotated = draw_ocr(img, boxes, txts, scores, font_path=font_path) \n",
    "\n",
    "plt.imshow(annotated) "
   ]
  },
  {
   "cell_type": "code",
   "execution_count": null,
   "metadata": {
    "colab": {
     "base_uri": "https://localhost:8080/"
    },
    "id": "FqNCB_A5Wz7z",
    "outputId": "c80dd844-ec6c-4f70-85bc-4f932c286717"
   },
   "outputs": [],
   "source": [
    "print(txts)"
   ]
  },
  {
   "cell_type": "code",
   "execution_count": null,
   "metadata": {
    "colab": {
     "base_uri": "https://localhost:8080/",
     "height": 35
    },
    "id": "XTudAW_6WrTV",
    "outputId": "01b3ae92-d60b-4ede-80af-095c93c08ad4"
   },
   "outputs": [],
   "source": [
    "my_texts =' '.join(txts)\n",
    "my_texts"
   ]
  },
  {
   "cell_type": "code",
   "execution_count": null,
   "metadata": {
    "colab": {
     "base_uri": "https://localhost:8080/"
    },
    "id": "2G1sWZSusFF_",
    "outputId": "3c93df37-032f-48c0-ced9-3d7d3b6c9362"
   },
   "outputs": [],
   "source": [
    "f=open(\"output.txt\",\"w\")\n",
    "f.write(my_texts)"
   ]
  },
  {
   "cell_type": "code",
   "execution_count": null,
   "metadata": {
    "id": "a4WBJTlaZvig"
   },
   "outputs": [],
   "source": [
    "from gtts import gTTS"
   ]
  },
  {
   "cell_type": "code",
   "execution_count": null,
   "metadata": {
    "id": "fip9fZhDbcLS"
   },
   "outputs": [],
   "source": [
    "f=open(\"output.txt\",\"r\")\n",
    "tts=f.read()\n",
    "tt= gTTS(text=tts,lang='en',slow = False)\n",
    "tt.save(\"good.mp3\")\n",
    "    \n",
    "    \n"
   ]
  },
  {
   "cell_type": "code",
   "execution_count": null,
   "metadata": {
    "colab": {
     "base_uri": "https://localhost:8080/"
    },
    "id": "aH4YM4UIacf4",
    "outputId": "b78bb489-c83c-452f-90dc-d1ed17b70c34"
   },
   "outputs": [],
   "source": [
    "!pip install gradio"
   ]
  },
  {
   "cell_type": "code",
   "execution_count": null,
   "metadata": {
    "id": "pvTEzWDnaWFv"
   },
   "outputs": [],
   "source": [
    "import gradio as gr"
   ]
  },
  {
   "cell_type": "code",
   "execution_count": null,
   "metadata": {
    "id": "aS5giZoubcmP"
   },
   "outputs": [],
   "source": [
    "import pickle"
   ]
  },
  {
   "cell_type": "code",
   "execution_count": null,
   "metadata": {
    "id": "iZnKtE866yk5"
   },
   "outputs": [],
   "source": [
    "file = open('model.pkl', 'wb')\n",
    "\n",
    "pickle.dump(tt, file)"
   ]
  },
  {
   "cell_type": "code",
   "execution_count": null,
   "metadata": {
    "colab": {
     "base_uri": "https://localhost:8080/"
    },
    "id": "LSZh9dVPdzM3",
    "outputId": "86b298ea-5bb7-487f-aa60-9ec0b1f4b064"
   },
   "outputs": [],
   "source": [
    "! pip install pdfminer.six"
   ]
  },
  {
   "cell_type": "code",
   "execution_count": null,
   "metadata": {
    "colab": {
     "base_uri": "https://localhost:8080/",
     "height": 643
    },
    "id": "vTw6Ms4YdZ33",
    "outputId": "a6bb5597-e4b5-4e6c-e376-fe239fc8ba25"
   },
   "outputs": [],
   "source": [
    "from gtts import gTTS\n",
    "from pdfminer.high_level import extract_text\n",
    "import gradio as gr\n",
    "\n",
    "def pdf_to_text(file_obj):\n",
    "   text = extract_text(file_obj.name)\n",
    "   myobj = gTTS(text=tts, lang='en', slow=False)\n",
    "   myobj.save(\"output.wav\")\n",
    "   return 'output.wav'\n",
    "\n",
    "iface = gr.Interface(\n",
    "   fn = pdf_to_text,\n",
    "   inputs = 'file',\n",
    "   outputs = 'audio'\n",
    "   )\n",
    "iface.launch()"
   ]
  },
  {
   "cell_type": "code",
   "execution_count": null,
   "metadata": {},
   "outputs": [],
   "source": []
  },
  {
   "cell_type": "code",
   "execution_count": null,
   "metadata": {},
   "outputs": [],
   "source": []
  },
  {
   "cell_type": "code",
   "execution_count": null,
   "metadata": {},
   "outputs": [],
   "source": []
  }
 ],
 "metadata": {
  "colab": {
   "collapsed_sections": [],
   "name": "labelreading.ipynb",
   "provenance": []
  },
  "kernelspec": {
   "display_name": "Python 3 (ipykernel)",
   "language": "python",
   "name": "python3"
  },
  "language_info": {
   "codemirror_mode": {
    "name": "ipython",
    "version": 3
   },
   "file_extension": ".py",
   "mimetype": "text/x-python",
   "name": "python",
   "nbconvert_exporter": "python",
   "pygments_lexer": "ipython3",
   "version": "3.9.13"
  }
 },
 "nbformat": 4,
 "nbformat_minor": 1
}

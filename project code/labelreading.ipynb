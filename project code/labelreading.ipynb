{
 "cells": [
  {
   "cell_type": "code",
   "execution_count": 1,
   "metadata": {
    "colab": {
     "base_uri": "https://localhost:8080/"
    },
    "id": "S7m9azJGZFbE",
    "outputId": "9680e7ff-946d-44bf-912d-46e967006002"
   },
   "outputs": [
    {
     "name": "stdout",
     "output_type": "stream",
     "text": [
      "Collecting paddleocr\n",
      "  Downloading paddleocr-2.6.1.3-py3-none-any.whl (445 kB)\n",
      "     ------------------------------------- 445.9/445.9 kB 69.2 kB/s eta 0:00:00\n",
      "Requirement already satisfied: numpy in c:\\users\\sai\\anaconda3\\lib\\site-packages (from paddleocr) (1.21.5)\n",
      "Requirement already satisfied: fonttools>=4.24.0 in c:\\users\\sai\\anaconda3\\lib\\site-packages (from paddleocr) (4.25.0)\n",
      "Collecting pyclipper\n",
      "  Downloading pyclipper-1.3.0.post4-cp39-cp39-win_amd64.whl (95 kB)\n",
      "     --------------------------------------- 95.1/95.1 kB 56.0 kB/s eta 0:00:00\n",
      "Collecting premailer\n",
      "  Downloading premailer-3.10.0-py2.py3-none-any.whl (19 kB)\n",
      "Requirement already satisfied: scikit-image in c:\\users\\sai\\anaconda3\\lib\\site-packages (from paddleocr) (0.19.2)\n",
      "Requirement already satisfied: beautifulsoup4 in c:\\users\\sai\\anaconda3\\lib\\site-packages (from paddleocr) (4.11.1)\n",
      "Collecting attrdict\n",
      "  Downloading attrdict-2.0.1-py2.py3-none-any.whl (9.9 kB)\n",
      "Collecting rapidfuzz\n",
      "  Downloading rapidfuzz-2.13.7-cp39-cp39-win_amd64.whl (1.0 MB)\n",
      "     ---------------------------------------- 1.0/1.0 MB 135.4 kB/s eta 0:00:00\n",
      "Collecting python-docx\n",
      "  Downloading python-docx-0.8.11.tar.gz (5.6 MB)\n",
      "     ---------------------------------------- 5.6/5.6 MB 209.3 kB/s eta 0:00:00\n",
      "  Preparing metadata (setup.py): started\n",
      "  Preparing metadata (setup.py): finished with status 'done'\n",
      "Requirement already satisfied: lxml in c:\\users\\sai\\anaconda3\\lib\\site-packages (from paddleocr) (4.9.1)\n",
      "Collecting visualdl\n",
      "  Downloading visualdl-2.5.0-py3-none-any.whl (6.3 MB)\n",
      "     ---------------------------------------- 6.3/6.3 MB 190.8 kB/s eta 0:00:00\n",
      "Collecting opencv-python<=4.6.0.66\n",
      "  Downloading opencv_python-4.6.0.66-cp36-abi3-win_amd64.whl (35.6 MB)\n",
      "     -------------------------------------- 35.6/35.6 MB 178.9 kB/s eta 0:00:00\n",
      "Collecting imgaug\n",
      "  Downloading imgaug-0.4.0-py2.py3-none-any.whl (948 kB)\n",
      "     ------------------------------------ 948.0/948.0 kB 280.4 kB/s eta 0:00:00\n",
      "Requirement already satisfied: openpyxl in c:\\users\\sai\\anaconda3\\lib\\site-packages (from paddleocr) (3.0.10)\n",
      "Collecting PyMuPDF<1.21.0\n",
      "  Downloading PyMuPDF-1.20.2-cp39-cp39-win_amd64.whl (6.6 MB)\n",
      "     ---------------------------------------- 6.6/6.6 MB 232.3 kB/s eta 0:00:00\n",
      "Collecting shapely\n",
      "  Downloading shapely-2.0.1-cp39-cp39-win_amd64.whl (1.4 MB)\n",
      "     ---------------------------------------- 1.4/1.4 MB 172.2 kB/s eta 0:00:00\n",
      "Collecting fire>=0.3.0\n",
      "  Downloading fire-0.5.0.tar.gz (88 kB)\n",
      "     -------------------------------------- 88.3/88.3 kB 226.9 kB/s eta 0:00:00\n",
      "  Preparing metadata (setup.py): started\n",
      "  Preparing metadata (setup.py): finished with status 'done'\n",
      "Collecting lmdb\n",
      "  Downloading lmdb-1.4.0-cp39-cp39-win_amd64.whl (105 kB)\n",
      "     ------------------------------------- 105.9/105.9 kB 36.4 kB/s eta 0:00:00\n",
      "Collecting pdf2docx\n",
      "  Downloading pdf2docx-0.5.6-py3-none-any.whl (148 kB)\n",
      "     ------------------------------------ 148.4/148.4 kB 155.0 kB/s eta 0:00:00\n",
      "Requirement already satisfied: tqdm in c:\\users\\sai\\anaconda3\\lib\\site-packages (from paddleocr) (4.64.1)\n",
      "Collecting opencv-contrib-python<=4.6.0.66\n",
      "  Downloading opencv_contrib_python-4.6.0.66-cp36-abi3-win_amd64.whl (42.5 MB)\n",
      "     -------------------------------------- 42.5/42.5 MB 144.8 kB/s eta 0:00:00\n",
      "Requirement already satisfied: cython in c:\\users\\sai\\anaconda3\\lib\\site-packages (from paddleocr) (0.29.32)\n",
      "Requirement already satisfied: six in c:\\users\\sai\\anaconda3\\lib\\site-packages (from fire>=0.3.0->paddleocr) (1.16.0)\n",
      "Collecting termcolor\n",
      "  Downloading termcolor-2.2.0-py3-none-any.whl (6.6 kB)\n",
      "Requirement already satisfied: soupsieve>1.2 in c:\\users\\sai\\anaconda3\\lib\\site-packages (from beautifulsoup4->paddleocr) (2.3.1)\n",
      "Requirement already satisfied: imageio in c:\\users\\sai\\anaconda3\\lib\\site-packages (from imgaug->paddleocr) (2.19.3)\n",
      "Requirement already satisfied: scipy in c:\\users\\sai\\anaconda3\\lib\\site-packages (from imgaug->paddleocr) (1.9.1)\n",
      "Requirement already satisfied: matplotlib in c:\\users\\sai\\anaconda3\\lib\\site-packages (from imgaug->paddleocr) (3.5.2)\n",
      "Requirement already satisfied: Pillow in c:\\users\\sai\\anaconda3\\lib\\site-packages (from imgaug->paddleocr) (9.2.0)\n",
      "Requirement already satisfied: networkx>=2.2 in c:\\users\\sai\\anaconda3\\lib\\site-packages (from scikit-image->paddleocr) (2.8.4)\n",
      "Requirement already satisfied: tifffile>=2019.7.26 in c:\\users\\sai\\anaconda3\\lib\\site-packages (from scikit-image->paddleocr) (2021.7.2)\n",
      "Requirement already satisfied: packaging>=20.0 in c:\\users\\sai\\anaconda3\\lib\\site-packages (from scikit-image->paddleocr) (21.3)\n",
      "Requirement already satisfied: PyWavelets>=1.1.1 in c:\\users\\sai\\anaconda3\\lib\\site-packages (from scikit-image->paddleocr) (1.3.0)\n",
      "Requirement already satisfied: et_xmlfile in c:\\users\\sai\\anaconda3\\lib\\site-packages (from openpyxl->paddleocr) (1.1.0)\n",
      "Collecting cssutils\n",
      "  Downloading cssutils-2.6.0-py3-none-any.whl (399 kB)\n",
      "     ------------------------------------ 399.7/399.7 kB 259.6 kB/s eta 0:00:00\n",
      "Collecting cachetools\n",
      "  Downloading cachetools-5.3.0-py3-none-any.whl (9.3 kB)\n",
      "Requirement already satisfied: requests in c:\\users\\sai\\anaconda3\\lib\\site-packages (from premailer->paddleocr) (2.28.1)\n",
      "Requirement already satisfied: cssselect in c:\\users\\sai\\anaconda3\\lib\\site-packages (from premailer->paddleocr) (1.1.0)\n",
      "Requirement already satisfied: colorama in c:\\users\\sai\\anaconda3\\lib\\site-packages (from tqdm->paddleocr) (0.4.5)\n",
      "Requirement already satisfied: flask>=1.1.1 in c:\\users\\sai\\anaconda3\\lib\\site-packages (from visualdl->paddleocr) (1.1.2)\n",
      "Collecting Flask-Babel>=3.0.0\n",
      "  Downloading flask_babel-3.0.1-py3-none-any.whl (11 kB)\n",
      "Collecting x2paddle\n",
      "  Downloading x2paddle-1.4.0-py3-none-any.whl (319 kB)\n",
      "     ------------------------------------ 319.1/319.1 kB 260.2 kB/s eta 0:00:00\n",
      "Collecting bce-python-sdk\n",
      "  Downloading bce_python_sdk-0.8.79-py3-none-any.whl (207 kB)\n",
      "     ------------------------------------ 207.8/207.8 kB 162.2 kB/s eta 0:00:00\n",
      "Collecting multiprocess\n",
      "  Downloading multiprocess-0.70.14-py39-none-any.whl (132 kB)\n",
      "     ------------------------------------ 132.9/132.9 kB 196.2 kB/s eta 0:00:00\n",
      "Collecting protobuf>=3.11.0\n",
      "  Downloading protobuf-4.21.12-cp39-cp39-win_amd64.whl (527 kB)\n",
      "     ------------------------------------ 527.0/527.0 kB 151.7 kB/s eta 0:00:00\n",
      "Collecting onnx>=1.6.0\n",
      "  Downloading onnx-1.13.0-cp39-cp39-win_amd64.whl (12.2 MB)\n",
      "     -------------------------------------- 12.2/12.2 MB 155.7 kB/s eta 0:00:00\n",
      "Requirement already satisfied: pandas in c:\\users\\sai\\anaconda3\\lib\\site-packages (from visualdl->paddleocr) (1.4.4)\n",
      "Collecting rarfile\n",
      "  Downloading rarfile-4.0-py3-none-any.whl (28 kB)\n",
      "Collecting tritonclient[all]\n",
      "  Downloading tritonclient-2.30.0-py3-none-any.whl (67 kB)\n",
      "     -------------------------------------- 67.2/67.2 kB 202.7 kB/s eta 0:00:00\n",
      "Collecting gradio\n",
      "  Downloading gradio-3.18.0-py3-none-any.whl (14.2 MB)\n",
      "     -------------------------------------- 14.2/14.2 MB 203.5 kB/s eta 0:00:00\n",
      "Requirement already satisfied: psutil in c:\\users\\sai\\anaconda3\\lib\\site-packages (from visualdl->paddleocr) (5.9.0)\n",
      "Requirement already satisfied: click>=5.1 in c:\\users\\sai\\anaconda3\\lib\\site-packages (from flask>=1.1.1->visualdl->paddleocr) (8.0.4)\n",
      "Requirement already satisfied: Jinja2>=2.10.1 in c:\\users\\sai\\anaconda3\\lib\\site-packages (from flask>=1.1.1->visualdl->paddleocr) (2.11.3)\n",
      "Requirement already satisfied: itsdangerous>=0.24 in c:\\users\\sai\\anaconda3\\lib\\site-packages (from flask>=1.1.1->visualdl->paddleocr) (2.0.1)\n",
      "Requirement already satisfied: Werkzeug>=0.15 in c:\\users\\sai\\anaconda3\\lib\\site-packages (from flask>=1.1.1->visualdl->paddleocr) (2.0.3)\n",
      "Collecting pytz<2023.0,>=2022.7\n",
      "  Downloading pytz-2022.7.1-py2.py3-none-any.whl (499 kB)\n",
      "     ------------------------------------ 499.4/499.4 kB 145.6 kB/s eta 0:00:00\n",
      "Collecting flask>=1.1.1\n",
      "  Downloading Flask-2.2.2-py3-none-any.whl (101 kB)\n",
      "     ------------------------------------ 101.5/101.5 kB 138.9 kB/s eta 0:00:00\n",
      "Collecting Jinja2>=2.10.1\n",
      "  Downloading Jinja2-3.1.2-py3-none-any.whl (133 kB)\n",
      "     ------------------------------------ 133.1/133.1 kB 115.7 kB/s eta 0:00:00\n",
      "Collecting Babel<3.0.0,>=2.11.0\n",
      "  Downloading Babel-2.11.0-py3-none-any.whl (9.5 MB)\n",
      "     ---------------------------------------- 9.5/9.5 MB 175.1 kB/s eta 0:00:00\n",
      "Collecting Werkzeug>=0.15\n",
      "  Downloading Werkzeug-2.2.3-py3-none-any.whl (233 kB)\n",
      "     ------------------------------------ 233.6/233.6 kB 219.8 kB/s eta 0:00:00\n",
      "Requirement already satisfied: importlib-metadata>=3.6.0 in c:\\users\\sai\\anaconda3\\lib\\site-packages (from flask>=1.1.1->visualdl->paddleocr) (4.11.3)\n",
      "Collecting protobuf>=3.11.0\n",
      "  Downloading protobuf-3.20.3-cp39-cp39-win_amd64.whl (904 kB)\n",
      "     ------------------------------------ 904.2/904.2 kB 117.7 kB/s eta 0:00:00\n",
      "Requirement already satisfied: typing-extensions>=3.6.2.1 in c:\\users\\sai\\anaconda3\\lib\\site-packages (from onnx>=1.6.0->visualdl->paddleocr) (4.3.0)\n",
      "Requirement already satisfied: pyparsing!=3.0.5,>=2.0.2 in c:\\users\\sai\\anaconda3\\lib\\site-packages (from packaging>=20.0->scikit-image->paddleocr) (3.0.9)\n",
      "Requirement already satisfied: future>=0.6.0 in c:\\users\\sai\\anaconda3\\lib\\site-packages (from bce-python-sdk->visualdl->paddleocr) (0.18.2)\n",
      "Collecting pycryptodome>=3.8.0\n",
      "  Downloading pycryptodome-3.17-cp35-abi3-win_amd64.whl (1.7 MB)\n",
      "     ---------------------------------------- 1.7/1.7 MB 122.4 kB/s eta 0:00:00\n",
      "Collecting orjson\n",
      "  Downloading orjson-3.8.6-cp39-none-win_amd64.whl (195 kB)\n",
      "     ------------------------------------ 195.6/195.6 kB 118.7 kB/s eta 0:00:00\n",
      "Collecting python-multipart\n",
      "  Downloading python-multipart-0.0.5.tar.gz (32 kB)\n",
      "  Preparing metadata (setup.py): started\n",
      "  Preparing metadata (setup.py): finished with status 'done'\n",
      "Requirement already satisfied: pyyaml in c:\\users\\sai\\anaconda3\\lib\\site-packages (from gradio->visualdl->paddleocr) (6.0)\n",
      "Collecting websockets>=10.0\n",
      "  Downloading websockets-10.4-cp39-cp39-win_amd64.whl (101 kB)\n",
      "     ------------------------------------ 101.4/101.4 kB 119.1 kB/s eta 0:00:00\n",
      "Requirement already satisfied: markupsafe in c:\\users\\sai\\anaconda3\\lib\\site-packages (from gradio->visualdl->paddleocr) (2.0.1)\n",
      "Requirement already satisfied: fsspec in c:\\users\\sai\\anaconda3\\lib\\site-packages (from gradio->visualdl->paddleocr) (2022.7.1)\n",
      "Collecting altair>=4.2.0\n",
      "  Downloading altair-4.2.2-py3-none-any.whl (813 kB)\n",
      "     ------------------------------------ 813.6/813.6 kB 129.5 kB/s eta 0:00:00\n",
      "Collecting ffmpy\n",
      "  Downloading ffmpy-0.3.0.tar.gz (4.8 kB)\n",
      "  Preparing metadata (setup.py): started\n",
      "  Preparing metadata (setup.py): finished with status 'done'\n",
      "Collecting aiofiles\n",
      "  Downloading aiofiles-23.1.0-py3-none-any.whl (14 kB)\n",
      "Collecting aiohttp\n",
      "  Downloading aiohttp-3.8.4-cp39-cp39-win_amd64.whl (323 kB)\n",
      "     ------------------------------------ 323.6/323.6 kB 271.1 kB/s eta 0:00:00\n",
      "Collecting fastapi\n",
      "  Downloading fastapi-0.92.0-py3-none-any.whl (56 kB)\n",
      "     -------------------------------------- 56.2/56.2 kB 173.6 kB/s eta 0:00:00\n",
      "Collecting httpx\n",
      "  Downloading httpx-0.23.3-py3-none-any.whl (71 kB)\n",
      "     -------------------------------------- 71.5/71.5 kB 325.7 kB/s eta 0:00:00\n",
      "Collecting pydantic\n",
      "  Downloading pydantic-1.10.4-cp39-cp39-win_amd64.whl (2.1 MB)\n",
      "     ---------------------------------------- 2.1/2.1 MB 177.6 kB/s eta 0:00:00\n",
      "Collecting uvicorn\n",
      "  Downloading uvicorn-0.20.0-py3-none-any.whl (56 kB)\n",
      "     -------------------------------------- 56.9/56.9 kB 186.6 kB/s eta 0:00:00\n",
      "Collecting pydub\n",
      "  Downloading pydub-0.25.1-py2.py3-none-any.whl (32 kB)\n",
      "Collecting markdown-it-py[linkify,plugins]>=2.0.0\n",
      "  Downloading markdown_it_py-2.1.0-py3-none-any.whl (84 kB)\n",
      "     -------------------------------------- 84.5/84.5 kB 136.1 kB/s eta 0:00:00\n",
      "Requirement already satisfied: cycler>=0.10 in c:\\users\\sai\\anaconda3\\lib\\site-packages (from matplotlib->imgaug->paddleocr) (0.11.0)\n",
      "Requirement already satisfied: python-dateutil>=2.7 in c:\\users\\sai\\anaconda3\\lib\\site-packages (from matplotlib->imgaug->paddleocr) (2.8.2)\n",
      "Requirement already satisfied: kiwisolver>=1.0.1 in c:\\users\\sai\\anaconda3\\lib\\site-packages (from matplotlib->imgaug->paddleocr) (1.4.2)\n",
      "Collecting dill>=0.3.6\n",
      "  Downloading dill-0.3.6-py3-none-any.whl (110 kB)\n",
      "     ------------------------------------ 110.5/110.5 kB 164.4 kB/s eta 0:00:00\n",
      "Requirement already satisfied: urllib3<1.27,>=1.21.1 in c:\\users\\sai\\anaconda3\\lib\\site-packages (from requests->premailer->paddleocr) (1.26.11)\n",
      "Requirement already satisfied: certifi>=2017.4.17 in c:\\users\\sai\\anaconda3\\lib\\site-packages (from requests->premailer->paddleocr) (2022.9.14)\n",
      "Requirement already satisfied: idna<4,>=2.5 in c:\\users\\sai\\anaconda3\\lib\\site-packages (from requests->premailer->paddleocr) (3.3)\n",
      "Requirement already satisfied: charset-normalizer<3,>=2 in c:\\users\\sai\\anaconda3\\lib\\site-packages (from requests->premailer->paddleocr) (2.0.4)\n",
      "Collecting python-rapidjson>=0.9.1\n",
      "  Downloading python_rapidjson-1.9-cp39-cp39-win_amd64.whl (140 kB)\n",
      "     ------------------------------------ 140.3/140.3 kB 320.3 kB/s eta 0:00:00\n",
      "Collecting grpcio>=1.41.0\n",
      "  Downloading grpcio-1.51.1-cp39-cp39-win_amd64.whl (3.7 MB)\n",
      "     ---------------------------------------- 3.7/3.7 MB 212.2 kB/s eta 0:00:00\n",
      "Collecting geventhttpclient<=2.0.2,>=1.4.4\n",
      "  Downloading geventhttpclient-2.0.2-cp39-cp39-win_amd64.whl (38 kB)\n",
      "Requirement already satisfied: sympy in c:\\users\\sai\\anaconda3\\lib\\site-packages (from x2paddle->visualdl->paddleocr) (1.10.1)\n",
      "Collecting multidict<7.0,>=4.5\n",
      "  Downloading multidict-6.0.4-cp39-cp39-win_amd64.whl (28 kB)\n",
      "Requirement already satisfied: attrs>=17.3.0 in c:\\users\\sai\\anaconda3\\lib\\site-packages (from aiohttp->gradio->visualdl->paddleocr) (21.4.0)\n",
      "Collecting async-timeout<5.0,>=4.0.0a3\n",
      "  Downloading async_timeout-4.0.2-py3-none-any.whl (5.8 kB)\n",
      "Collecting yarl<2.0,>=1.0\n",
      "  Downloading yarl-1.8.2-cp39-cp39-win_amd64.whl (56 kB)\n",
      "     --------------------------------------- 56.8/56.8 kB 45.8 kB/s eta 0:00:00\n",
      "Collecting frozenlist>=1.1.1\n",
      "  Downloading frozenlist-1.3.3-cp39-cp39-win_amd64.whl (34 kB)\n",
      "Collecting aiosignal>=1.1.2\n",
      "  Downloading aiosignal-1.3.1-py3-none-any.whl (7.6 kB)\n",
      "Requirement already satisfied: toolz in c:\\users\\sai\\anaconda3\\lib\\site-packages (from altair>=4.2.0->gradio->visualdl->paddleocr) (0.11.2)\n",
      "Requirement already satisfied: jsonschema>=3.0 in c:\\users\\sai\\anaconda3\\lib\\site-packages (from altair>=4.2.0->gradio->visualdl->paddleocr) (4.16.0)\n",
      "Requirement already satisfied: entrypoints in c:\\users\\sai\\anaconda3\\lib\\site-packages (from altair>=4.2.0->gradio->visualdl->paddleocr) (0.4)\n",
      "Collecting gevent>=0.13\n",
      "  Downloading gevent-22.10.2-cp39-cp39-win_amd64.whl (1.5 MB)\n",
      "     ---------------------------------------- 1.5/1.5 MB 224.9 kB/s eta 0:00:00\n",
      "Collecting brotli\n",
      "  Downloading Brotli-1.0.9-cp39-cp39-win_amd64.whl (383 kB)\n",
      "     ------------------------------------ 383.4/383.4 kB 154.1 kB/s eta 0:00:00\n",
      "Requirement already satisfied: zipp>=0.5 in c:\\users\\sai\\anaconda3\\lib\\site-packages (from importlib-metadata>=3.6.0->flask>=1.1.1->visualdl->paddleocr) (3.8.0)\n",
      "Collecting mdurl~=0.1\n",
      "  Downloading mdurl-0.1.2-py3-none-any.whl (10.0 kB)\n",
      "Collecting linkify-it-py~=1.0\n",
      "  Downloading linkify_it_py-1.0.3-py3-none-any.whl (19 kB)\n",
      "Collecting mdit-py-plugins\n",
      "  Downloading mdit_py_plugins-0.3.3-py3-none-any.whl (50 kB)\n",
      "     -------------------------------------- 50.5/50.5 kB 233.9 kB/s eta 0:00:00\n",
      "Collecting markupsafe\n",
      "  Downloading MarkupSafe-2.1.2-cp39-cp39-win_amd64.whl (16 kB)\n",
      "Collecting starlette<0.26.0,>=0.25.0\n",
      "  Downloading starlette-0.25.0-py3-none-any.whl (66 kB)\n",
      "     -------------------------------------- 66.4/66.4 kB 133.4 kB/s eta 0:00:00\n",
      "Collecting rfc3986[idna2008]<2,>=1.3\n",
      "  Downloading rfc3986-1.5.0-py2.py3-none-any.whl (31 kB)\n",
      "Requirement already satisfied: sniffio in c:\\users\\sai\\anaconda3\\lib\\site-packages (from httpx->gradio->visualdl->paddleocr) (1.2.0)\n",
      "Collecting httpcore<0.17.0,>=0.15.0\n",
      "  Downloading httpcore-0.16.3-py3-none-any.whl (69 kB)\n",
      "     -------------------------------------- 69.6/69.6 kB 146.1 kB/s eta 0:00:00\n",
      "Requirement already satisfied: mpmath>=0.19 in c:\\users\\sai\\anaconda3\\lib\\site-packages (from sympy->x2paddle->visualdl->paddleocr) (1.2.1)\n",
      "Collecting h11>=0.8\n",
      "  Downloading h11-0.14.0-py3-none-any.whl (58 kB)\n",
      "     -------------------------------------- 58.3/58.3 kB 161.7 kB/s eta 0:00:00\n",
      "Collecting greenlet>=2.0.0\n",
      "  Downloading greenlet-2.0.2-cp39-cp39-win_amd64.whl (192 kB)\n",
      "     ------------------------------------ 192.1/192.1 kB 104.9 kB/s eta 0:00:00\n",
      "Collecting zope.event\n",
      "  Downloading zope.event-4.6-py2.py3-none-any.whl (6.8 kB)\n",
      "Requirement already satisfied: setuptools in c:\\users\\sai\\anaconda3\\lib\\site-packages (from gevent>=0.13->geventhttpclient<=2.0.2,>=1.4.4->tritonclient[all]->visualdl->paddleocr) (63.4.1)\n",
      "Requirement already satisfied: zope.interface in c:\\users\\sai\\anaconda3\\lib\\site-packages (from gevent>=0.13->geventhttpclient<=2.0.2,>=1.4.4->tritonclient[all]->visualdl->paddleocr) (5.4.0)\n",
      "Requirement already satisfied: cffi>=1.12.2 in c:\\users\\sai\\anaconda3\\lib\\site-packages (from gevent>=0.13->geventhttpclient<=2.0.2,>=1.4.4->tritonclient[all]->visualdl->paddleocr) (1.15.1)\n",
      "Requirement already satisfied: anyio<5.0,>=3.0 in c:\\users\\sai\\anaconda3\\lib\\site-packages (from httpcore<0.17.0,>=0.15.0->httpx->gradio->visualdl->paddleocr) (3.5.0)\n",
      "Requirement already satisfied: pyrsistent!=0.17.0,!=0.17.1,!=0.17.2,>=0.14.0 in c:\\users\\sai\\anaconda3\\lib\\site-packages (from jsonschema>=3.0->altair>=4.2.0->gradio->visualdl->paddleocr) (0.18.0)\n",
      "Collecting uc-micro-py\n",
      "  Downloading uc_micro_py-1.0.1-py3-none-any.whl (6.2 kB)\n",
      "Requirement already satisfied: pycparser in c:\\users\\sai\\anaconda3\\lib\\site-packages (from cffi>=1.12.2->gevent>=0.13->geventhttpclient<=2.0.2,>=1.4.4->tritonclient[all]->visualdl->paddleocr) (2.21)\n",
      "Building wheels for collected packages: fire, python-docx, ffmpy, python-multipart\n",
      "  Building wheel for fire (setup.py): started\n",
      "  Building wheel for fire (setup.py): finished with status 'done'\n",
      "  Created wheel for fire: filename=fire-0.5.0-py2.py3-none-any.whl size=116933 sha256=15ff113f06f7725a40e9b83d9e6c20721f740e1bf1df542d5b286331b5223ef9\n",
      "  Stored in directory: c:\\users\\sai\\appdata\\local\\pip\\cache\\wheels\\f7\\f1\\89\\b9ea2bf8f80ec027a88fef1d354b3816b4d3d29530988972f6\n",
      "  Building wheel for python-docx (setup.py): started\n",
      "  Building wheel for python-docx (setup.py): finished with status 'done'\n",
      "  Created wheel for python-docx: filename=python_docx-0.8.11-py3-none-any.whl size=184489 sha256=63c88e22f65e9fdd93df85c89e943db265eb7042ba108ab964f437a9d8ae5006\n",
      "  Stored in directory: c:\\users\\sai\\appdata\\local\\pip\\cache\\wheels\\83\\8b\\7c\\09ae60c42c7ba4ed2dddaf2b8b9186cb105255856d6ed3dba5\n",
      "  Building wheel for ffmpy (setup.py): started\n",
      "  Building wheel for ffmpy (setup.py): finished with status 'done'\n",
      "  Created wheel for ffmpy: filename=ffmpy-0.3.0-py3-none-any.whl size=4693 sha256=1117640710aabd947437f81a855edb7a829c2c372a707dc057a74d001fc1c283\n",
      "  Stored in directory: c:\\users\\sai\\appdata\\local\\pip\\cache\\wheels\\91\\e2\\96\\f676aa08bfd789328c6576cd0f1fde4a3d686703bb0c247697\n",
      "  Building wheel for python-multipart (setup.py): started\n",
      "  Building wheel for python-multipart (setup.py): finished with status 'done'\n",
      "  Created wheel for python-multipart: filename=python_multipart-0.0.5-py3-none-any.whl size=31671 sha256=677622be25752687f3d6f718c27be6e63a97cf9c63840c30c415794e52b40f08\n",
      "  Stored in directory: c:\\users\\sai\\appdata\\local\\pip\\cache\\wheels\\fe\\04\\d1\\a10661cc45f03c3cecda50deb2d2c22f57b4e84a75b2a5987e\n",
      "Successfully built fire python-docx ffmpy python-multipart\n",
      "Installing collected packages: rfc3986, rarfile, pytz, pydub, pyclipper, lmdb, ffmpy, brotli, zope.event, websockets, uc-micro-py, termcolor, shapely, rapidfuzz, python-rapidjson, python-multipart, python-docx, PyMuPDF, pydantic, pycryptodome, protobuf, orjson, opencv-python, opencv-contrib-python, multidict, mdurl, markupsafe, h11, grpcio, greenlet, frozenlist, dill, cssutils, cachetools, Babel, attrdict, async-timeout, aiofiles, yarl, x2paddle, Werkzeug, uvicorn, tritonclient, starlette, premailer, onnx, multiprocess, markdown-it-py, linkify-it-py, Jinja2, httpcore, gevent, fire, bce-python-sdk, aiosignal, pdf2docx, mdit-py-plugins, imgaug, httpx, geventhttpclient, flask, fastapi, altair, aiohttp, Flask-Babel, gradio, visualdl, paddleocr\n",
      "  Attempting uninstall: pytz\n",
      "    Found existing installation: pytz 2022.1\n",
      "    Uninstalling pytz-2022.1:\n",
      "      Successfully uninstalled pytz-2022.1\n",
      "  Attempting uninstall: markupsafe\n",
      "    Found existing installation: MarkupSafe 2.0.1\n",
      "    Uninstalling MarkupSafe-2.0.1:\n",
      "      Successfully uninstalled MarkupSafe-2.0.1\n",
      "  Attempting uninstall: greenlet\n",
      "    Found existing installation: greenlet 1.1.1\n",
      "    Uninstalling greenlet-1.1.1:\n",
      "      Successfully uninstalled greenlet-1.1.1\n",
      "  Attempting uninstall: dill\n",
      "    Found existing installation: dill 0.3.4\n",
      "    Uninstalling dill-0.3.4:\n",
      "      Successfully uninstalled dill-0.3.4\n",
      "  Attempting uninstall: Babel\n",
      "    Found existing installation: Babel 2.9.1\n",
      "    Uninstalling Babel-2.9.1:\n",
      "      Successfully uninstalled Babel-2.9.1\n",
      "  Attempting uninstall: Werkzeug\n",
      "    Found existing installation: Werkzeug 2.0.3\n",
      "    Uninstalling Werkzeug-2.0.3:\n",
      "      Successfully uninstalled Werkzeug-2.0.3\n",
      "  Attempting uninstall: Jinja2\n",
      "    Found existing installation: Jinja2 2.11.3\n",
      "    Uninstalling Jinja2-2.11.3:\n",
      "      Successfully uninstalled Jinja2-2.11.3\n",
      "  Attempting uninstall: flask\n",
      "    Found existing installation: Flask 1.1.2\n",
      "    Uninstalling Flask-1.1.2:\n",
      "      Successfully uninstalled Flask-1.1.2\n",
      "Successfully installed Babel-2.11.0 Flask-Babel-3.0.1 Jinja2-3.1.2 PyMuPDF-1.20.2 Werkzeug-2.2.3 aiofiles-23.1.0 aiohttp-3.8.4 aiosignal-1.3.1 altair-4.2.2 async-timeout-4.0.2 attrdict-2.0.1 bce-python-sdk-0.8.79 brotli-1.0.9 cachetools-5.3.0 cssutils-2.6.0 dill-0.3.6 fastapi-0.92.0 ffmpy-0.3.0 fire-0.5.0 flask-2.2.2 frozenlist-1.3.3 gevent-22.10.2 geventhttpclient-2.0.2 gradio-3.18.0 greenlet-2.0.2 grpcio-1.51.1 h11-0.14.0 httpcore-0.16.3 httpx-0.23.3 imgaug-0.4.0 linkify-it-py-1.0.3 lmdb-1.4.0 markdown-it-py-2.1.0 markupsafe-2.1.2 mdit-py-plugins-0.3.3 mdurl-0.1.2 multidict-6.0.4 multiprocess-0.70.14 onnx-1.13.0 opencv-contrib-python-4.6.0.66 opencv-python-4.6.0.66 orjson-3.8.6 paddleocr-2.6.1.3 pdf2docx-0.5.6 premailer-3.10.0 protobuf-3.20.3 pyclipper-1.3.0.post4 pycryptodome-3.17 pydantic-1.10.4 pydub-0.25.1 python-docx-0.8.11 python-multipart-0.0.5 python-rapidjson-1.9 pytz-2022.7.1 rapidfuzz-2.13.7 rarfile-4.0 rfc3986-1.5.0 shapely-2.0.1 starlette-0.25.0 termcolor-2.2.0 tritonclient-2.30.0 uc-micro-py-1.0.1 uvicorn-0.20.0 visualdl-2.5.0 websockets-10.4 x2paddle-1.4.0 yarl-1.8.2 zope.event-4.6\n"
     ]
    },
    {
     "name": "stderr",
     "output_type": "stream",
     "text": [
      "ERROR: pip's dependency resolver does not currently take into account all the packages that are installed. This behaviour is the source of the following dependency conflicts.\n",
      "anaconda-project 0.11.1 requires ruamel-yaml, which is not installed.\n",
      "conda-repo-cli 1.0.20 requires clyent==1.2.1, but you have clyent 1.2.2 which is incompatible.\n",
      "conda-repo-cli 1.0.20 requires nbformat==5.4.0, but you have nbformat 5.5.0 which is incompatible.\n"
     ]
    }
   ],
   "source": [
    "!pip install paddleocr"
   ]
  },
  {
   "cell_type": "code",
   "execution_count": 2,
   "metadata": {
    "colab": {
     "base_uri": "https://localhost:8080/"
    },
    "id": "INwwHOpE_e_o",
    "outputId": "a54f9f5b-71e5-4f87-d793-c508ceebc04d"
   },
   "outputs": [
    {
     "name": "stdout",
     "output_type": "stream",
     "text": [
      "Collecting imgaug==0.2.5\n",
      "  Downloading imgaug-0.2.5.tar.gz (562 kB)\n",
      "     ------------------------------------ 562.7/562.7 kB 165.3 kB/s eta 0:00:00\n",
      "  Preparing metadata (setup.py): started\n",
      "  Preparing metadata (setup.py): finished with status 'done'\n",
      "Requirement already satisfied: scipy in c:\\users\\sai\\anaconda3\\lib\\site-packages (from imgaug==0.2.5) (1.9.1)\n",
      "Requirement already satisfied: scikit-image>=0.11.0 in c:\\users\\sai\\anaconda3\\lib\\site-packages (from imgaug==0.2.5) (0.19.2)\n",
      "Requirement already satisfied: numpy>=1.7.0 in c:\\users\\sai\\anaconda3\\lib\\site-packages (from imgaug==0.2.5) (1.21.5)\n",
      "Requirement already satisfied: six in c:\\users\\sai\\anaconda3\\lib\\site-packages (from imgaug==0.2.5) (1.16.0)\n",
      "Requirement already satisfied: networkx>=2.2 in c:\\users\\sai\\anaconda3\\lib\\site-packages (from scikit-image>=0.11.0->imgaug==0.2.5) (2.8.4)\n",
      "Requirement already satisfied: tifffile>=2019.7.26 in c:\\users\\sai\\anaconda3\\lib\\site-packages (from scikit-image>=0.11.0->imgaug==0.2.5) (2021.7.2)\n",
      "Requirement already satisfied: imageio>=2.4.1 in c:\\users\\sai\\anaconda3\\lib\\site-packages (from scikit-image>=0.11.0->imgaug==0.2.5) (2.19.3)\n",
      "Requirement already satisfied: PyWavelets>=1.1.1 in c:\\users\\sai\\anaconda3\\lib\\site-packages (from scikit-image>=0.11.0->imgaug==0.2.5) (1.3.0)\n",
      "Requirement already satisfied: packaging>=20.0 in c:\\users\\sai\\anaconda3\\lib\\site-packages (from scikit-image>=0.11.0->imgaug==0.2.5) (21.3)\n",
      "Requirement already satisfied: pillow!=7.1.0,!=7.1.1,!=8.3.0,>=6.1.0 in c:\\users\\sai\\anaconda3\\lib\\site-packages (from scikit-image>=0.11.0->imgaug==0.2.5) (9.2.0)\n",
      "Requirement already satisfied: pyparsing!=3.0.5,>=2.0.2 in c:\\users\\sai\\anaconda3\\lib\\site-packages (from packaging>=20.0->scikit-image>=0.11.0->imgaug==0.2.5) (3.0.9)\n",
      "Building wheels for collected packages: imgaug\n",
      "  Building wheel for imgaug (setup.py): started\n",
      "  Building wheel for imgaug (setup.py): finished with status 'done'\n",
      "  Created wheel for imgaug: filename=imgaug-0.2.5-py3-none-any.whl size=561421 sha256=7ddee2fcf4153f37d86f851325fca9de99e06b701293e6f49b19914bb45130d2\n",
      "  Stored in directory: c:\\users\\sai\\appdata\\local\\pip\\cache\\wheels\\15\\ce\\73\\56b66fd453b11dcfbdb7bff1f4b2c1d448eba44f2212fb3d3b\n",
      "Successfully built imgaug\n",
      "Installing collected packages: imgaug\n",
      "  Attempting uninstall: imgaug\n",
      "    Found existing installation: imgaug 0.4.0\n",
      "    Uninstalling imgaug-0.4.0:\n",
      "      Successfully uninstalled imgaug-0.4.0\n",
      "Successfully installed imgaug-0.2.5\n"
     ]
    }
   ],
   "source": [
    "!pip install imgaug==0.2.5\n"
   ]
  },
  {
   "cell_type": "code",
   "execution_count": 3,
   "metadata": {
    "colab": {
     "base_uri": "https://localhost:8080/"
    },
    "id": "21Dc2AMRZoUo",
    "outputId": "dd5dfe29-d8f5-4e16-baab-9ae3cd98e287"
   },
   "outputs": [
    {
     "name": "stdout",
     "output_type": "stream",
     "text": [
      "Collecting paddlepaddle\n",
      "  Downloading paddlepaddle-2.4.1-cp39-cp39-win_amd64.whl (68.5 MB)\n",
      "     -------------------------------------- 68.5/68.5 MB 201.5 kB/s eta 0:00:00\n",
      "Collecting astor\n",
      "  Downloading astor-0.8.1-py2.py3-none-any.whl (27 kB)\n",
      "Collecting protobuf<=3.20.0,>=3.1.0\n",
      "  Downloading protobuf-3.20.0-cp39-cp39-win_amd64.whl (904 kB)\n",
      "     ------------------------------------ 904.1/904.1 kB 241.4 kB/s eta 0:00:00\n",
      "Requirement already satisfied: Pillow in c:\\users\\sai\\anaconda3\\lib\\site-packages (from paddlepaddle) (9.2.0)\n",
      "Requirement already satisfied: numpy>=1.13 in c:\\users\\sai\\anaconda3\\lib\\site-packages (from paddlepaddle) (1.21.5)\n",
      "Collecting opt-einsum==3.3.0\n",
      "  Downloading opt_einsum-3.3.0-py3-none-any.whl (65 kB)\n",
      "     -------------------------------------- 65.5/65.5 kB 442.0 kB/s eta 0:00:00\n",
      "Requirement already satisfied: requests>=2.20.0 in c:\\users\\sai\\anaconda3\\lib\\site-packages (from paddlepaddle) (2.28.1)\n",
      "Requirement already satisfied: decorator in c:\\users\\sai\\anaconda3\\lib\\site-packages (from paddlepaddle) (5.1.1)\n",
      "Collecting paddle-bfloat==0.1.7\n",
      "  Downloading paddle_bfloat-0.1.7-cp39-cp39-win_amd64.whl (39 kB)\n",
      "Requirement already satisfied: six in c:\\users\\sai\\anaconda3\\lib\\site-packages (from paddlepaddle) (1.16.0)\n",
      "Requirement already satisfied: charset-normalizer<3,>=2 in c:\\users\\sai\\anaconda3\\lib\\site-packages (from requests>=2.20.0->paddlepaddle) (2.0.4)\n",
      "Requirement already satisfied: urllib3<1.27,>=1.21.1 in c:\\users\\sai\\anaconda3\\lib\\site-packages (from requests>=2.20.0->paddlepaddle) (1.26.11)\n",
      "Requirement already satisfied: certifi>=2017.4.17 in c:\\users\\sai\\anaconda3\\lib\\site-packages (from requests>=2.20.0->paddlepaddle) (2022.9.14)\n",
      "Requirement already satisfied: idna<4,>=2.5 in c:\\users\\sai\\anaconda3\\lib\\site-packages (from requests>=2.20.0->paddlepaddle) (3.3)\n",
      "Installing collected packages: paddle-bfloat, protobuf, opt-einsum, astor, paddlepaddle\n",
      "  Attempting uninstall: protobuf\n",
      "    Found existing installation: protobuf 3.20.3\n",
      "    Uninstalling protobuf-3.20.3:\n",
      "      Successfully uninstalled protobuf-3.20.3\n",
      "Successfully installed astor-0.8.1 opt-einsum-3.3.0 paddle-bfloat-0.1.7 paddlepaddle-2.4.1 protobuf-3.20.0\n"
     ]
    },
    {
     "name": "stderr",
     "output_type": "stream",
     "text": [
      "ERROR: pip's dependency resolver does not currently take into account all the packages that are installed. This behaviour is the source of the following dependency conflicts.\n",
      "onnx 1.13.0 requires protobuf<4,>=3.20.2, but you have protobuf 3.20.0 which is incompatible.\n"
     ]
    }
   ],
   "source": [
    "!pip install paddlepaddle"
   ]
  },
  {
   "cell_type": "code",
   "execution_count": 4,
   "metadata": {
    "colab": {
     "base_uri": "https://localhost:8080/"
    },
    "id": "YSrNUl_CZtEO",
    "outputId": "8a23fc1f-4baa-4b9b-b9e1-fb91aadf5268"
   },
   "outputs": [
    {
     "name": "stdout",
     "output_type": "stream",
     "text": [
      "Collecting gTTS\n",
      "  Downloading gTTS-2.3.1-py3-none-any.whl (28 kB)\n",
      "Requirement already satisfied: requests<3,>=2.27 in c:\\users\\sai\\anaconda3\\lib\\site-packages (from gTTS) (2.28.1)\n",
      "Requirement already satisfied: click<8.2,>=7.1 in c:\\users\\sai\\anaconda3\\lib\\site-packages (from gTTS) (8.0.4)\n",
      "Requirement already satisfied: colorama in c:\\users\\sai\\anaconda3\\lib\\site-packages (from click<8.2,>=7.1->gTTS) (0.4.5)\n",
      "Requirement already satisfied: idna<4,>=2.5 in c:\\users\\sai\\anaconda3\\lib\\site-packages (from requests<3,>=2.27->gTTS) (3.3)\n",
      "Requirement already satisfied: charset-normalizer<3,>=2 in c:\\users\\sai\\anaconda3\\lib\\site-packages (from requests<3,>=2.27->gTTS) (2.0.4)\n",
      "Requirement already satisfied: certifi>=2017.4.17 in c:\\users\\sai\\anaconda3\\lib\\site-packages (from requests<3,>=2.27->gTTS) (2022.9.14)\n",
      "Requirement already satisfied: urllib3<1.27,>=1.21.1 in c:\\users\\sai\\anaconda3\\lib\\site-packages (from requests<3,>=2.27->gTTS) (1.26.11)\n",
      "Installing collected packages: gTTS\n",
      "Successfully installed gTTS-2.3.1\n"
     ]
    }
   ],
   "source": [
    "!pip install gTTS"
   ]
  },
  {
   "cell_type": "code",
   "execution_count": 5,
   "metadata": {
    "colab": {
     "base_uri": "https://localhost:8080/"
    },
    "id": "G1w3DfJ3cjmx",
    "outputId": "e3ced9d9-3ae7-4879-ed8d-6a9cc24672bb"
   },
   "outputs": [
    {
     "name": "stderr",
     "output_type": "stream",
     "text": [
      "'git' is not recognized as an internal or external command,\n",
      "operable program or batch file.\n"
     ]
    }
   ],
   "source": [
    "!git clone https://github.com/PaddlePaddle/PaddleOCR"
   ]
  },
  {
   "cell_type": "code",
   "execution_count": 6,
   "metadata": {
    "colab": {
     "base_uri": "https://localhost:8080/"
    },
    "id": "ey-xl4EPdG2U",
    "outputId": "a8a7f367-93a1-4a74-d802-2a00dffdee2d"
   },
   "outputs": [],
   "source": [
    "from paddleocr import PaddleOCR, draw_ocr \n",
    "from matplotlib import pyplot as plt \n",
    "import cv2 \n",
    "import os"
   ]
  },
  {
   "cell_type": "code",
   "execution_count": null,
   "metadata": {
    "colab": {
     "base_uri": "https://localhost:8080/"
    },
    "id": "PnDLr6UXdUZc",
    "outputId": "d93bd3d8-63ea-436a-fb7e-9a422226a6d2"
   },
   "outputs": [
    {
     "name": "stdout",
     "output_type": "stream",
     "text": [
      "[2023/02/15 22:09:34] ppocr DEBUG: Namespace(help='==SUPPRESS==', use_gpu=False, use_xpu=False, use_npu=False, ir_optim=True, use_tensorrt=False, min_subgraph_size=15, precision='fp32', gpu_mem=500, image_dir=None, page_num=0, det_algorithm='DB', det_model_dir='C:\\\\Users\\\\sai/.paddleocr/whl\\\\det\\\\en\\\\en_PP-OCRv3_det_infer', det_limit_side_len=960, det_limit_type='max', det_box_type='quad', det_db_thresh=0.3, det_db_box_thresh=0.6, det_db_unclip_ratio=1.5, max_batch_size=10, use_dilation=False, det_db_score_mode='fast', det_east_score_thresh=0.8, det_east_cover_thresh=0.1, det_east_nms_thresh=0.2, det_sast_score_thresh=0.5, det_sast_nms_thresh=0.2, det_pse_thresh=0, det_pse_box_thresh=0.85, det_pse_min_area=16, det_pse_scale=1, scales=[8, 16, 32], alpha=1.0, beta=1.0, fourier_degree=5, rec_algorithm='SVTR_LCNet', rec_model_dir='C:\\\\Users\\\\sai/.paddleocr/whl\\\\rec\\\\en\\\\en_PP-OCRv3_rec_infer', rec_image_inverse=True, rec_image_shape='3, 48, 320', rec_batch_num=6, max_text_length=25, rec_char_dict_path='C:\\\\Users\\\\sai\\\\anaconda3\\\\lib\\\\site-packages\\\\paddleocr\\\\ppocr\\\\utils\\\\en_dict.txt', use_space_char=True, vis_font_path='./doc/fonts/simfang.ttf', drop_score=0.5, e2e_algorithm='PGNet', e2e_model_dir=None, e2e_limit_side_len=768, e2e_limit_type='max', e2e_pgnet_score_thresh=0.5, e2e_char_dict_path='./ppocr/utils/ic15_dict.txt', e2e_pgnet_valid_set='totaltext', e2e_pgnet_mode='fast', use_angle_cls=False, cls_model_dir='C:\\\\Users\\\\sai/.paddleocr/whl\\\\cls\\\\ch_ppocr_mobile_v2.0_cls_infer', cls_image_shape='3, 48, 192', label_list=['0', '180'], cls_batch_num=6, cls_thresh=0.9, enable_mkldnn=False, cpu_threads=10, use_pdserving=False, warmup=False, sr_model_dir=None, sr_image_shape='3, 32, 128', sr_batch_num=1, draw_img_save_dir='./inference_results', save_crop_res=False, crop_res_save_dir='./output', use_mp=False, total_process_num=1, process_id=0, benchmark=False, save_log_path='./log_output/', show_log=True, use_onnx=False, output='./output', table_max_len=488, table_algorithm='TableAttn', table_model_dir=None, merge_no_span_structure=True, table_char_dict_path=None, layout_model_dir=None, layout_dict_path=None, layout_score_threshold=0.5, layout_nms_threshold=0.5, kie_algorithm='LayoutXLM', ser_model_dir=None, re_model_dir=None, use_visual_backbone=True, ser_dict_path='../train_data/XFUND/class_list_xfun.txt', ocr_order_method=None, mode='structure', image_orientation=False, layout=True, table=True, ocr=True, recovery=False, use_pdf2docx_api=False, lang='en', det=True, rec=True, type='ocr', ocr_version='PP-OCRv3', structure_version='PP-StructureV2')\n"
     ]
    }
   ],
   "source": [
    "from paddleocr import PaddleOCR,draw_ocr\n",
    "ocr = PaddleOCR(lang='en') # need to run only once to download and load model into memory\n",
    "img_path = '/content/Resource_Label_Group_custom-pharmaceutical-labels-01.jpg'\n",
    "result = ocr.ocr(img_path, cls=False)\n",
    "for line in result:\n",
    "    print(line)\n",
    "\n",
    "# draw result\n",
    "from PIL import Image\n",
    "image = Image.open(img_path).convert('RGB')\n",
    "boxes = [line[0] for line in result]\n",
    "txts = [line[1][0] for line in result]\n",
    "scores = [line[1][1] for line in result]\n",
    "im_show = draw_ocr(image, boxes, txts, scores, font_path='/content/PaddleOCR/doc/fonts/latin.ttf')\n",
    "im_show = Image.fromarray(im_show)\n",
    "im_show.save('result.jpg')"
   ]
  },
  {
   "cell_type": "code",
   "execution_count": null,
   "metadata": {
    "colab": {
     "base_uri": "https://localhost:8080/"
    },
    "id": "tFC2lBzmeK0Z",
    "outputId": "10211994-368f-49a1-d29d-6ac8800b1e92"
   },
   "outputs": [],
   "source": [
    "ocr_model = PaddleOCR(lang='en')"
   ]
  },
  {
   "cell_type": "code",
   "execution_count": null,
   "metadata": {
    "id": "Epbj2SiMeRBn"
   },
   "outputs": [],
   "source": [
    "img_path = '/content/Resource_Label_Group_custom-pharmaceutical-labels-01.jpg'"
   ]
  },
  {
   "cell_type": "code",
   "execution_count": null,
   "metadata": {
    "colab": {
     "base_uri": "https://localhost:8080/"
    },
    "id": "ujZi5DFSe89-",
    "outputId": "ce6e98cf-493b-49a3-9ff7-eeacd450d2c2"
   },
   "outputs": [],
   "source": [
    "result = ocr_model.ocr(img_path)"
   ]
  },
  {
   "cell_type": "code",
   "execution_count": null,
   "metadata": {
    "colab": {
     "base_uri": "https://localhost:8080/"
    },
    "id": "7cTj-htbfD_s",
    "outputId": "aa16b07a-fe6d-47cf-cdb6-8525f7d03fc9"
   },
   "outputs": [],
   "source": [
    "result"
   ]
  },
  {
   "cell_type": "code",
   "execution_count": null,
   "metadata": {
    "colab": {
     "base_uri": "https://localhost:8080/"
    },
    "id": "rNSE-cN1fG4p",
    "outputId": "c7858e60-6111-4f07-9776-64a1dc738c8b"
   },
   "outputs": [],
   "source": [
    "result\n",
    "for res in result:\n",
    "    print(res[1][0])"
   ]
  },
  {
   "cell_type": "code",
   "execution_count": null,
   "metadata": {
    "id": "2RkBCWsefN4m"
   },
   "outputs": [],
   "source": [
    "boxes = [res[0] for res in result] \n",
    "txts = [res[1][0] for res in result]\n",
    "scores = [res[1][1] for res in result]"
   ]
  },
  {
   "cell_type": "code",
   "execution_count": null,
   "metadata": {
    "colab": {
     "base_uri": "https://localhost:8080/"
    },
    "id": "m9hc2kKbVcKu",
    "outputId": "073b3b48-0842-45bc-a763-c5e8c9eac50d"
   },
   "outputs": [],
   "source": [
    "txts"
   ]
  },
  {
   "cell_type": "code",
   "execution_count": null,
   "metadata": {
    "id": "x9ujLFKufTE1"
   },
   "outputs": [],
   "source": [
    "font_path = '/content/PaddleOCR/doc/fonts/latin.ttf'"
   ]
  },
  {
   "cell_type": "code",
   "execution_count": null,
   "metadata": {
    "id": "QDeYwUTRfe5L"
   },
   "outputs": [],
   "source": [
    "img = cv2.imread(img_path) \n",
    "\n",
    "\n",
    "img = cv2.cvtColor(img, cv2.COLOR_BGR2RGB) "
   ]
  },
  {
   "cell_type": "code",
   "execution_count": null,
   "metadata": {
    "colab": {
     "base_uri": "https://localhost:8080/",
     "height": 465
    },
    "id": "T7RoU_fqfpC3",
    "outputId": "6c1ee1c0-1d89-4a77-ce09-4b52833b4031"
   },
   "outputs": [],
   "source": [
    "plt.figure(figsize=(15,15))\n",
    "\n",
    "annotated = draw_ocr(img, boxes, txts, scores, font_path=font_path) \n",
    "\n",
    "plt.imshow(annotated) "
   ]
  },
  {
   "cell_type": "code",
   "execution_count": null,
   "metadata": {
    "colab": {
     "base_uri": "https://localhost:8080/"
    },
    "id": "FqNCB_A5Wz7z",
    "outputId": "c80dd844-ec6c-4f70-85bc-4f932c286717"
   },
   "outputs": [],
   "source": [
    "print(txts)"
   ]
  },
  {
   "cell_type": "code",
   "execution_count": null,
   "metadata": {
    "colab": {
     "base_uri": "https://localhost:8080/",
     "height": 35
    },
    "id": "XTudAW_6WrTV",
    "outputId": "01b3ae92-d60b-4ede-80af-095c93c08ad4"
   },
   "outputs": [],
   "source": [
    "my_texts =' '.join(txts)\n",
    "my_texts"
   ]
  },
  {
   "cell_type": "code",
   "execution_count": null,
   "metadata": {
    "colab": {
     "base_uri": "https://localhost:8080/"
    },
    "id": "2G1sWZSusFF_",
    "outputId": "3c93df37-032f-48c0-ced9-3d7d3b6c9362"
   },
   "outputs": [],
   "source": [
    "f=open(\"output.txt\",\"w\")\n",
    "f.write(my_texts)"
   ]
  },
  {
   "cell_type": "code",
   "execution_count": null,
   "metadata": {
    "id": "a4WBJTlaZvig"
   },
   "outputs": [],
   "source": [
    "from gtts import gTTS"
   ]
  },
  {
   "cell_type": "code",
   "execution_count": null,
   "metadata": {
    "id": "fip9fZhDbcLS"
   },
   "outputs": [],
   "source": [
    "f=open(\"output.txt\",\"r\")\n",
    "tts=f.read()\n",
    "tt= gTTS(text=tts,lang='en',slow = False)\n",
    "tt.save(\"good.mp3\")\n",
    "    \n",
    "    \n"
   ]
  },
  {
   "cell_type": "code",
   "execution_count": null,
   "metadata": {
    "colab": {
     "base_uri": "https://localhost:8080/"
    },
    "id": "aH4YM4UIacf4",
    "outputId": "b78bb489-c83c-452f-90dc-d1ed17b70c34"
   },
   "outputs": [],
   "source": [
    "!pip install gradio"
   ]
  },
  {
   "cell_type": "code",
   "execution_count": null,
   "metadata": {
    "id": "pvTEzWDnaWFv"
   },
   "outputs": [],
   "source": [
    "import gradio as gr"
   ]
  },
  {
   "cell_type": "code",
   "execution_count": null,
   "metadata": {
    "id": "aS5giZoubcmP"
   },
   "outputs": [],
   "source": [
    "import pickle"
   ]
  },
  {
   "cell_type": "code",
   "execution_count": null,
   "metadata": {
    "id": "iZnKtE866yk5"
   },
   "outputs": [],
   "source": [
    "file = open('model.pkl', 'wb')\n",
    "\n",
    "pickle.dump(tt, file)"
   ]
  },
  {
   "cell_type": "code",
   "execution_count": null,
   "metadata": {
    "colab": {
     "base_uri": "https://localhost:8080/"
    },
    "id": "LSZh9dVPdzM3",
    "outputId": "86b298ea-5bb7-487f-aa60-9ec0b1f4b064"
   },
   "outputs": [],
   "source": [
    "! pip install pdfminer.six"
   ]
  },
  {
   "cell_type": "code",
   "execution_count": null,
   "metadata": {
    "colab": {
     "base_uri": "https://localhost:8080/",
     "height": 643
    },
    "id": "vTw6Ms4YdZ33",
    "outputId": "a6bb5597-e4b5-4e6c-e376-fe239fc8ba25"
   },
   "outputs": [],
   "source": [
    "from gtts import gTTS\n",
    "from pdfminer.high_level import extract_text\n",
    "import gradio as gr\n",
    "\n",
    "def pdf_to_text(file_obj):\n",
    "   text = extract_text(file_obj.name)\n",
    "   myobj = gTTS(text=tts, lang='en', slow=False)\n",
    "   myobj.save(\"output.wav\")\n",
    "   return 'output.wav'\n",
    "\n",
    "iface = gr.Interface(\n",
    "   fn = pdf_to_text,\n",
    "   inputs = 'file',\n",
    "   outputs = 'audio'\n",
    "   )\n",
    "iface.launch()"
   ]
  }
 ],
 "metadata": {
  "colab": {
   "collapsed_sections": [],
   "name": "labelreading.ipynb",
   "provenance": []
  },
  "kernelspec": {
   "display_name": "Python 3 (ipykernel)",
   "language": "python",
   "name": "python3"
  },
  "language_info": {
   "codemirror_mode": {
    "name": "ipython",
    "version": 3
   },
   "file_extension": ".py",
   "mimetype": "text/x-python",
   "name": "python",
   "nbconvert_exporter": "python",
   "pygments_lexer": "ipython3",
   "version": "3.9.13"
  }
 },
 "nbformat": 4,
 "nbformat_minor": 1
}

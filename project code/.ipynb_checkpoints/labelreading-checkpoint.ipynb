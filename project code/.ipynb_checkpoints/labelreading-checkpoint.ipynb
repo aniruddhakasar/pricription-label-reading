{
 "cells": [
  {
   "cell_type": "code",
   "execution_count": null,
   "metadata": {
    "colab": {
     "base_uri": "https://localhost:8080/"
    },
    "id": "S7m9azJGZFbE",
    "outputId": "9680e7ff-946d-44bf-912d-46e967006002"
   },
   "outputs": [],
   "source": [
    "!pip install paddleocr"
   ]
  },
  {
   "cell_type": "code",
   "execution_count": null,
   "metadata": {
    "colab": {
     "base_uri": "https://localhost:8080/"
    },
    "id": "INwwHOpE_e_o",
    "outputId": "a54f9f5b-71e5-4f87-d793-c508ceebc04d"
   },
   "outputs": [],
   "source": [
    "!pip install imgaug==0.2.5\n"
   ]
  },
  {
   "cell_type": "code",
   "execution_count": null,
   "metadata": {
    "colab": {
     "base_uri": "https://localhost:8080/"
    },
    "id": "21Dc2AMRZoUo",
    "outputId": "dd5dfe29-d8f5-4e16-baab-9ae3cd98e287"
   },
   "outputs": [],
   "source": [
    "!pip install paddlepaddle"
   ]
  },
  {
   "cell_type": "code",
   "execution_count": null,
   "metadata": {
    "colab": {
     "base_uri": "https://localhost:8080/"
    },
    "id": "YSrNUl_CZtEO",
    "outputId": "8a23fc1f-4baa-4b9b-b9e1-fb91aadf5268"
   },
   "outputs": [],
   "source": [
    "!pip install gTTS"
   ]
  },
  {
   "cell_type": "code",
   "execution_count": null,
   "metadata": {
    "colab": {
     "base_uri": "https://localhost:8080/"
    },
    "id": "G1w3DfJ3cjmx",
    "outputId": "e3ced9d9-3ae7-4879-ed8d-6a9cc24672bb"
   },
   "outputs": [],
   "source": [
    "!git clone https://github.com/PaddlePaddle/PaddleOCR"
   ]
  },
  {
   "cell_type": "code",
   "execution_count": null,
   "metadata": {
    "colab": {
     "base_uri": "https://localhost:8080/"
    },
    "id": "ey-xl4EPdG2U",
    "outputId": "a8a7f367-93a1-4a74-d802-2a00dffdee2d"
   },
   "outputs": [],
   "source": [
    "from paddleocr import PaddleOCR, draw_ocr \n",
    "from matplotlib import pyplot as plt \n",
    "import cv2 \n",
    "import os"
   ]
  },
  {
   "cell_type": "code",
   "execution_count": null,
   "metadata": {
    "colab": {
     "base_uri": "https://localhost:8080/"
    },
    "id": "PnDLr6UXdUZc",
    "outputId": "d93bd3d8-63ea-436a-fb7e-9a422226a6d2"
   },
   "outputs": [],
   "source": [
    "from paddleocr import PaddleOCR,draw_ocr\n",
    "ocr = PaddleOCR(lang='en') # need to run only once to download and load model into memory\n",
    "img_path = '/content/Resource_Label_Group_custom-pharmaceutical-labels-01.jpg'\n",
    "result = ocr.ocr(img_path, cls=False)\n",
    "for line in result:\n",
    "    print(line)\n",
    "\n",
    "# draw result\n",
    "from PIL import Image\n",
    "image = Image.open(img_path).convert('RGB')\n",
    "boxes = [line[0] for line in result]\n",
    "txts = [line[1][0] for line in result]\n",
    "scores = [line[1][1] for line in result]\n",
    "im_show = draw_ocr(image, boxes, txts, scores, font_path='/content/PaddleOCR/doc/fonts/latin.ttf')\n",
    "im_show = Image.fromarray(im_show)\n",
    "im_show.save('result.jpg')"
   ]
  },
  {
   "cell_type": "code",
   "execution_count": null,
   "metadata": {
    "colab": {
     "base_uri": "https://localhost:8080/"
    },
    "id": "tFC2lBzmeK0Z",
    "outputId": "10211994-368f-49a1-d29d-6ac8800b1e92"
   },
   "outputs": [],
   "source": [
    "ocr_model = PaddleOCR(lang='en')"
   ]
  },
  {
   "cell_type": "code",
   "execution_count": null,
   "metadata": {
    "id": "Epbj2SiMeRBn"
   },
   "outputs": [],
   "source": [
    "img_path = '/content/Resource_Label_Group_custom-pharmaceutical-labels-01.jpg'"
   ]
  },
  {
   "cell_type": "code",
   "execution_count": null,
   "metadata": {
    "colab": {
     "base_uri": "https://localhost:8080/"
    },
    "id": "ujZi5DFSe89-",
    "outputId": "ce6e98cf-493b-49a3-9ff7-eeacd450d2c2"
   },
   "outputs": [],
   "source": [
    "result = ocr_model.ocr(img_path)"
   ]
  },
  {
   "cell_type": "code",
   "execution_count": null,
   "metadata": {
    "colab": {
     "base_uri": "https://localhost:8080/"
    },
    "id": "7cTj-htbfD_s",
    "outputId": "aa16b07a-fe6d-47cf-cdb6-8525f7d03fc9"
   },
   "outputs": [],
   "source": [
    "result"
   ]
  },
  {
   "cell_type": "code",
   "execution_count": null,
   "metadata": {
    "colab": {
     "base_uri": "https://localhost:8080/"
    },
    "id": "rNSE-cN1fG4p",
    "outputId": "c7858e60-6111-4f07-9776-64a1dc738c8b"
   },
   "outputs": [],
   "source": [
    "result\n",
    "for res in result:\n",
    "    print(res[1][0])"
   ]
  },
  {
   "cell_type": "code",
   "execution_count": null,
   "metadata": {
    "id": "2RkBCWsefN4m"
   },
   "outputs": [],
   "source": [
    "boxes = [res[0] for res in result] \n",
    "txts = [res[1][0] for res in result]\n",
    "scores = [res[1][1] for res in result]"
   ]
  },
  {
   "cell_type": "code",
   "execution_count": null,
   "metadata": {
    "colab": {
     "base_uri": "https://localhost:8080/"
    },
    "id": "m9hc2kKbVcKu",
    "outputId": "073b3b48-0842-45bc-a763-c5e8c9eac50d"
   },
   "outputs": [],
   "source": [
    "txts"
   ]
  },
  {
   "cell_type": "code",
   "execution_count": null,
   "metadata": {
    "id": "x9ujLFKufTE1"
   },
   "outputs": [],
   "source": [
    "font_path = '/content/PaddleOCR/doc/fonts/latin.ttf'"
   ]
  },
  {
   "cell_type": "code",
   "execution_count": null,
   "metadata": {
    "id": "QDeYwUTRfe5L"
   },
   "outputs": [],
   "source": [
    "img = cv2.imread(img_path) \n",
    "\n",
    "\n",
    "img = cv2.cvtColor(img, cv2.COLOR_BGR2RGB) "
   ]
  },
  {
   "cell_type": "code",
   "execution_count": null,
   "metadata": {
    "colab": {
     "base_uri": "https://localhost:8080/",
     "height": 465
    },
    "id": "T7RoU_fqfpC3",
    "outputId": "6c1ee1c0-1d89-4a77-ce09-4b52833b4031"
   },
   "outputs": [],
   "source": [
    "plt.figure(figsize=(15,15))\n",
    "\n",
    "annotated = draw_ocr(img, boxes, txts, scores, font_path=font_path) \n",
    "\n",
    "plt.imshow(annotated) "
   ]
  },
  {
   "cell_type": "code",
   "execution_count": null,
   "metadata": {
    "colab": {
     "base_uri": "https://localhost:8080/"
    },
    "id": "FqNCB_A5Wz7z",
    "outputId": "c80dd844-ec6c-4f70-85bc-4f932c286717"
   },
   "outputs": [],
   "source": [
    "print(txts)"
   ]
  },
  {
   "cell_type": "code",
   "execution_count": null,
   "metadata": {
    "colab": {
     "base_uri": "https://localhost:8080/",
     "height": 35
    },
    "id": "XTudAW_6WrTV",
    "outputId": "01b3ae92-d60b-4ede-80af-095c93c08ad4"
   },
   "outputs": [],
   "source": [
    "my_texts =' '.join(txts)\n",
    "my_texts"
   ]
  },
  {
   "cell_type": "code",
   "execution_count": null,
   "metadata": {
    "colab": {
     "base_uri": "https://localhost:8080/"
    },
    "id": "2G1sWZSusFF_",
    "outputId": "3c93df37-032f-48c0-ced9-3d7d3b6c9362"
   },
   "outputs": [],
   "source": [
    "f=open(\"output.txt\",\"w\")\n",
    "f.write(my_texts)"
   ]
  },
  {
   "cell_type": "code",
   "execution_count": null,
   "metadata": {
    "id": "a4WBJTlaZvig"
   },
   "outputs": [],
   "source": [
    "from gtts import gTTS"
   ]
  },
  {
   "cell_type": "code",
   "execution_count": null,
   "metadata": {
    "id": "fip9fZhDbcLS"
   },
   "outputs": [],
   "source": [
    "f=open(\"output.txt\",\"r\")\n",
    "tts=f.read()\n",
    "tt= gTTS(text=tts,lang='en',slow = False)\n",
    "tt.save(\"good.mp3\")\n",
    "    \n",
    "    \n"
   ]
  },
  {
   "cell_type": "code",
   "execution_count": null,
   "metadata": {
    "colab": {
     "base_uri": "https://localhost:8080/"
    },
    "id": "aH4YM4UIacf4",
    "outputId": "b78bb489-c83c-452f-90dc-d1ed17b70c34"
   },
   "outputs": [],
   "source": [
    "!pip install gradio"
   ]
  },
  {
   "cell_type": "code",
   "execution_count": null,
   "metadata": {
    "id": "pvTEzWDnaWFv"
   },
   "outputs": [],
   "source": [
    "import gradio as gr"
   ]
  },
  {
   "cell_type": "code",
   "execution_count": null,
   "metadata": {
    "id": "aS5giZoubcmP"
   },
   "outputs": [],
   "source": [
    "import pickle"
   ]
  },
  {
   "cell_type": "code",
   "execution_count": null,
   "metadata": {
    "id": "iZnKtE866yk5"
   },
   "outputs": [],
   "source": [
    "file = open('model.pkl', 'wb')\n",
    "\n",
    "pickle.dump(tt, file)"
   ]
  },
  {
   "cell_type": "code",
   "execution_count": null,
   "metadata": {
    "colab": {
     "base_uri": "https://localhost:8080/"
    },
    "id": "LSZh9dVPdzM3",
    "outputId": "86b298ea-5bb7-487f-aa60-9ec0b1f4b064"
   },
   "outputs": [],
   "source": [
    "! pip install pdfminer.six"
   ]
  },
  {
   "cell_type": "code",
   "execution_count": null,
   "metadata": {
    "colab": {
     "base_uri": "https://localhost:8080/",
     "height": 643
    },
    "id": "vTw6Ms4YdZ33",
    "outputId": "a6bb5597-e4b5-4e6c-e376-fe239fc8ba25"
   },
   "outputs": [],
   "source": [
    "from gtts import gTTS\n",
    "from pdfminer.high_level import extract_text\n",
    "import gradio as gr\n",
    "\n",
    "def pdf_to_text(file_obj):\n",
    "   text = extract_text(file_obj.name)\n",
    "   myobj = gTTS(text=tts, lang='en', slow=False)\n",
    "   myobj.save(\"output.wav\")\n",
    "   return 'output.wav'\n",
    "\n",
    "iface = gr.Interface(\n",
    "   fn = pdf_to_text,\n",
    "   inputs = 'file',\n",
    "   outputs = 'audio'\n",
    "   )\n",
    "iface.launch()"
   ]
  }
 ],
 "metadata": {
  "colab": {
   "collapsed_sections": [],
   "name": "labelreading.ipynb",
   "provenance": []
  },
  "kernelspec": {
   "display_name": "Python 3 (ipykernel)",
   "language": "python",
   "name": "python3"
  },
  "language_info": {
   "codemirror_mode": {
    "name": "ipython",
    "version": 3
   },
   "file_extension": ".py",
   "mimetype": "text/x-python",
   "name": "python",
   "nbconvert_exporter": "python",
   "pygments_lexer": "ipython3",
   "version": "3.9.13"
  }
 },
 "nbformat": 4,
 "nbformat_minor": 1
}
